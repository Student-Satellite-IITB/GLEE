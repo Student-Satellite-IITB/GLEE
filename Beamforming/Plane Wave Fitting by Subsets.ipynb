{
 "cells": [
  {
   "cell_type": "markdown",
   "metadata": {},
   "source": [
    "# Plane Wave Fitting for Slowness Estimation\n",
    "December,2021\n"
   ]
  },
  {
   "cell_type": "markdown",
   "metadata": {},
   "source": [
    "plane wave fitting by iterating over all possible values of phi"
   ]
  },
  {
   "cell_type": "code",
   "execution_count": 30,
   "metadata": {},
   "outputs": [],
   "source": [
    "# importing the requiered libraries\n",
    "\n",
    "import numpy as np\n",
    "import matplotlib.pyplot as plt\n",
    "from sympy import *\n",
    "import random\n"
   ]
  },
  {
   "cell_type": "markdown",
   "metadata": {},
   "source": [
    "##### initialize no. of receivers, apparent horizontal velocity of sound, max frequency of source "
   ]
  },
  {
   "cell_type": "code",
   "execution_count": 31,
   "metadata": {},
   "outputs": [],
   "source": [
    "\n",
    "n_grp=10 # no. of receivers in a subset and not the number of subset\n",
    "no_of_subsets=2\n",
    "n_rec=n_grp*no_of_subsets #  ;number of receivers, to be kept odd for first run\n",
    "\n",
    "rec_pos_act= np.zeros(shape =(n_rec,2))  # Assigning thr actual receiver position\n",
    "\n",
    "v = 200 # m/s ### velocity of propagation (in sand)\n",
    "freq=2 #Hz, max recorded frequency\n",
    "lamda=v/freq# wavelength\n",
    "d=2000#m,  l=2000m  > 10 times lamda "
   ]
  },
  {
   "cell_type": "markdown",
   "metadata": {},
   "source": [
    "##### initialize position of source and  receivers "
   ]
  },
  {
   "cell_type": "code",
   "execution_count": 32,
   "metadata": {},
   "outputs": [],
   "source": [
    "#setting source configuration randomly\n",
    "np.random.seed(0)\n",
    "a=random.randint(int(d-d/10),d*5) # sourec distance must be more than or equal to d , limits set here are arbitary within this acceptance\n",
    "b=random.randint(int(d-d/10),d*5)\n",
    "src=(b,a)\n",
    "random.randrange(d-d/10,d*5)\n",
    "\n",
    "\n",
    "#setting different receiver configurations\n",
    "\n",
    "#uncomment following line for random distribution\n",
    "rec_pos_act=np.random.normal(0,100,size=(n_rec,2))\n",
    "\n",
    "\n",
    "#uncomment following line for linear distribution\n",
    "for i in range(0,n_rec):\n",
    "    rec_pos_act[i,1]=0\n",
    "    rec_pos_act[i,0]=(i-(n_rec-1)/2)*5 #first receievr at (-50,0) last at (50,0), all in line, distance 5 between them \n",
    "\n",
    "#uncomment following line for circular distribution    \n",
    "for i in range(0,int(n_rec/2)):\n",
    "    rec_pos_act[i,0]=100*cos((2*i)*2*np.pi/n_rec)\n",
    "    rec_pos_act[int(i+n_rec/2),0]=100*cos((2*i+1)*2*np.pi/n_rec)\n",
    "    rec_pos_act[i,1]=100*sin((2*i)*2*np.pi/n_rec)\n",
    "    rec_pos_act[int(i+n_rec/2),1]=100*sin((2*i+1)*2*np.pi/n_rec)\n",
    "\n",
    "\n"
   ]
  },
  {
   "cell_type": "markdown",
   "metadata": {},
   "source": [
    "initialize time recordings by time of arrival, introduce noise in time and position"
   ]
  },
  {
   "cell_type": "code",
   "execution_count": 33,
   "metadata": {},
   "outputs": [],
   "source": [
    "\n",
    "\n",
    "t_rec_ideal = np.zeros(shape =(n_rec,))  # time recorded in each receiver; form: (index of receiver,time) \n",
    "\n",
    "\n",
    "t_noise=np.random.normal(0,5/(v),size=(n_rec,))\n",
    "\n",
    "#introduce noise in position\n",
    "rec_pos_noise=np.random.normal(0,1,size=(n_rec,2))\n",
    "\n",
    "rec_pos_mes= rec_pos_act #+ rec_pos_noise  # rec_pos_mes stores[(x1,y1),(x2,y2),..] \n",
    "\n",
    "\n",
    "\n",
    "#initialising time recordings\n",
    "\n",
    "for i in range (0,n_rec):\n",
    "    t_rec_ideal[0:n_rec] = np.sqrt((rec_pos_mes[0:n_rec,0]-src[0])**2 + (rec_pos_mes[0:n_rec,1]-src[1])**2)/v\n",
    "\n",
    "\n",
    "\n",
    "### t_Rec_real has form [[rec1 recording], [rec2 recording]]\n",
    "\n",
    "# introduce noise in time\n",
    "t_Rec_real=t_rec_ideal #+ t_noise\n",
    "\n",
    "\n",
    "# time difference between time recordings wrt receiver 1st rec, \n",
    "#in the form : time recorded by receiver at ith position - time recorded by 1st receiver \n",
    "t_diff=np.zeros(shape=(n_rec,))\n",
    "for i in range(0,n_rec):\n",
    "    t_diff[i]=t_rec_ideal[i]-t_rec_ideal[0]\n",
    "    \n",
    "   \n",
    "    \n",
    "    \n",
    "    "
   ]
  },
  {
   "cell_type": "markdown",
   "metadata": {},
   "source": [
    "We iterate over all values of the backazimuth $\\phi$ such that it minimizes the error expression for \n",
    "N receivers:\n",
    "$\\hat{s} = \\min_{s}\\sum_{i=1}^{N} (\\tau_{i} - r_{i}.s)^2 $\n",
    "where i is the index of the receivers\n",
    "$\\tau_{i}$ is the time difference for $i^{th}$ receiver\n",
    "where the slowness vector $\\vec{s}$ is defined as:\n",
    "$\\vec{s} = (-\\frac{\\sin{\\phi}}{v}, -\\frac{\\cos{\\phi}}{v})$"
   ]
  },
  {
   "cell_type": "code",
   "execution_count": 34,
   "metadata": {},
   "outputs": [],
   "source": [
    "#function to return the error expression for a particular s, v and given configuration of receivers : \n",
    "\n",
    "def sum_of_errors(s_x,s_y,n_rec,rec_loc,time_diff):\n",
    "    ''' returns the error expression for particular  slowness vector s , apparent horizontal velocity v, receiver positions, and time differences\\\n",
    "        input s in form of s_x and s_y ( x and y coordinate ) \\\n",
    "        input n_rec: number of receivers \\\n",
    "        input rec_loc: 2-D array for receiver location , in form [(x_1,y_1),...(x_n_rec,y_n_rec)]\\\n",
    "        input time_diff: 1-D array for time difference [(t_i)]'''  \n",
    "    soe=0 # sume of errors\n",
    "    # find sum over all receivers\n",
    "    for i in range (0,n_rec):\n",
    "        soe+=(time_diff[i]-s_x*rec_loc[i,0]-s_y*rec_loc[i,1])**2\n",
    "    return soe    "
   ]
  },
  {
   "cell_type": "code",
   "execution_count": 35,
   "metadata": {},
   "outputs": [],
   "source": [
    "#function to estimate slowness by iterating over backazimuth\n",
    "\n",
    "def estimate_slowness(v,n_rec,rec_loc,time_diff):\n",
    "    ''' returns estimated backazimuth and final error for the estimated backazimuth\\\n",
    "    input v: apparent horizontal velocity\\\n",
    "    inputn_rec: number of receivers\\\n",
    "    input rec_loc: 2-D array for receiver locations in form [(x_1,y_2)]\\\n",
    "    input time_diff: 1-D array for time difference [(t_i)]'''\n",
    "    phi_estimated=0\n",
    "    error=10000\n",
    "    phi_range = np.linspace(0,2*np.pi,200000)\n",
    "    for phi in phi_range :\n",
    "            soe=sum_of_errors(-np.sin(phi)/v,-np.cos(phi)/v,n_rec,rec_loc,time_diff)  \n",
    "            #print(s_x_temp,s_y_temp)\n",
    "            #print(soe)\n",
    "            #print(s_x_temp,s_y_temp\n",
    "            if ( error>soe):\n",
    "                error =soe\n",
    "                phi_estimated=phi\n",
    "    if (sum_of_errors(-np.sin(np.pi-phi_estimated)/v,-np.cos(np.pi-phi_estimated)/v,n_rec,rec_loc,time_diff)<error) :\n",
    "        error=sum_of_errors(-np.sin(np.pi-phi_estimated)/v,-np.cos(np.pi-phi_estimated)/v,n_rec,rec_loc,time_diff)\n",
    "        phi_estimated=np.pi-phi_estimated\n",
    "    return (phi_estimated,error)  "
   ]
  },
  {
   "cell_type": "markdown",
   "metadata": {
    "collapsed": true
   },
   "source": [
    "    src_estimates=np.zeros(shape=(no_of_subsets,2))\n",
    "    phi_estimates=np.zeros(shape=(no_of_subsets,))\n",
    "    \n",
    "    rec_pos_i=np.zeros(shape=(n_grp,2))\n",
    "    for i in range(0,n_rec,n_grp):\n",
    "        phi_estimate_i,error=estimate_slowness(v_k,n_grp,rec_pos_mes[i:i+n_grp],\\\n",
    "                                                 t_diff[int(n_rec/4*i):int(n_rec/4*i+4)+1])\n",
    "        #ensure the first receiver in each subset is at the origin\n",
    "        \n",
    "        d_i=v_i*t_Rec_real[i]\n",
    "        src_estimates[i]=(x_i+d_i*np.sin(phi_estimates[i]),y_i+d_i*np.cos(phi_estimates[i]))\n",
    "        for k in (0,1,2,3):\n",
    "            error_in_concurrency+=np.sqrt((src_estimates[k%4][0]-src_estimates[(k+1)%4][0])**2 + \\\n",
    "                                          (src_estimates[k%4][1]-src_estimates[(k+1)%4][1])**2)\n",
    "print(phi_estimates)        \n",
    "    "
   ]
  },
  {
   "cell_type": "code",
   "execution_count": 51,
   "metadata": {},
   "outputs": [
    {
     "name": "stdout",
     "output_type": "stream",
     "text": [
      "actual angle:  1.3054806283420715\n",
      "phi_estimated : 1.305495354676012 \n",
      "final_error:  4.683321130293753\n",
      "pi- phi_estimated : 1.8360972989137812\n",
      " difference in backazimuth (diff of pi):  0.5306166705717097  percentage error :  40.64531169992005 %\n",
      "difference in backazimuth:  1.472633394050682e-05 \n",
      "percentage error in backazimuth:  0.0011280392539614326 %\n",
      "diff in location:  99.87922997951347\n",
      "diff in location (diff of pi):  4002.862434702972\n",
      "percentage error in distance:  1.3003836021906483 %\n",
      "(7315.644900771794, 1987.7025584129733)\n",
      "(7412, 2014)\n"
     ]
    }
   ],
   "source": [
    "\n",
    "phi_actual=np.arctan2(src[0],src[1]) #y first for arctan2,rotate axis (N is x now), so input x first\n",
    "if (phi_actual<0):\n",
    "    phi_actual+=2*np.pi\n",
    "              \n",
    "print(\"actual angle: \", phi_actual)\n",
    "phi_estimated,final_error=estimate_slowness(v,n_rec,rec_pos_mes,t_diff)\n",
    "print(\"phi_estimated :\",phi_estimated,\"\\nfinal_error: \", final_error)\n",
    "\n",
    "print(\"pi- phi_estimated :\",np.pi-phi_estimated)\n",
    "print(\" difference in backazimuth (diff of pi): \",np.pi-phi_estimated-phi_actual,\" percentage error : \",((np.pi-phi_estimated)/phi_actual-1)*100,\"%\"  )\n",
    "\n",
    "print(\"difference in backazimuth: \",phi_estimated-phi_actual,\"\\npercentage error in backazimuth: \",((phi_estimated)/phi_actual-1)*100,\"%\"  )\n",
    "print(\"diff in location: \" ,  np.sqrt((src[0]-d*np.sin(phi_estimated))**2+(src[1]-d*np.cos(phi_estimated))**2))\n",
    "print(\"diff in location (diff of pi): \" ,  np.sqrt((src[0]-d*np.sin(np.pi-phi_estimated))**2+(src[1]-d*np.cos(np.pi-phi_estimated))**2))\n",
    "print(\"percentage error in distance: \",(np.sqrt((src[0]-d*np.sin(phi_estimated))**2+\\\n",
    "                                               (src[1]-d*np.cos(phi_estimated))**2)/ np.sqrt(src[0]**2+src[1]**2) )*100,\"%\")\n",
    "src_estimated=d*np.sin(phi_estimated),d*np.cos(phi_estimated)\n",
    "print(src_estimated)\n",
    "print(src)"
   ]
  },
  {
   "cell_type": "code",
   "execution_count": 37,
   "metadata": {},
   "outputs": [
    {
     "name": "stdout",
     "output_type": "stream",
     "text": [
      "1.8360972989137812\n"
     ]
    }
   ],
   "source": [
    "print(np.pi-phi_estimated)"
   ]
  },
  {
   "cell_type": "code",
   "execution_count": 38,
   "metadata": {},
   "outputs": [
    {
     "data": {
      "text/plain": [
       "4.683321129751603"
      ]
     },
     "execution_count": 38,
     "metadata": {},
     "output_type": "execute_result"
    }
   ],
   "source": [
    "sum_of_errors(-np.sin(phi_actual)/v,-np.cos(phi_actual)/v,n_rec,rec_pos_mes,t_diff)"
   ]
  },
  {
   "cell_type": "code",
   "execution_count": 39,
   "metadata": {},
   "outputs": [],
   "source": [
    "#sum_of_errors(-np.sin(np.pi-phi_estimated)/v,-np.cos(np.pi-phi_actual)/v,n_rec,rec_pos_mes,t_diff)"
   ]
  },
  {
   "cell_type": "code",
   "execution_count": 40,
   "metadata": {},
   "outputs": [],
   "source": [
    "x=np.linspace(0,2*np.pi,2000)\n",
    "y=np.zeros(shape=(2000,))\n",
    "for i in range(0,2000):\n",
    "    y[i]=sum_of_errors(-sin(x[i])/v,-cos(x[i])/v,n_rec,rec_pos_mes,t_diff)"
   ]
  },
  {
   "cell_type": "code",
   "execution_count": 41,
   "metadata": {},
   "outputs": [
    {
     "data": {
      "text/plain": [
       "Text(0, 0.5, 'error in arbitary units')"
      ]
     },
     "execution_count": 41,
     "metadata": {},
     "output_type": "execute_result"
    },
    {
     "data": {
      "image/png": "[encoded data removed]",
      "text/plain": [
       "<Figure size 432x288 with 1 Axes>"
      ]
     },
     "metadata": {
      "needs_background": "light"
     },
     "output_type": "display_data"
    }
   ],
   "source": [
    "plt.plot(x,y)\n",
    "plt.xlabel(\"backazimuthal angle in radian\")\n",
    "plt.ylabel(\"error in arbitary units\")\n"
   ]
  },
  {
   "cell_type": "code",
   "execution_count": 42,
   "metadata": {
    "scrolled": false
   },
   "outputs": [
    {
     "data": {
      "image/png": "[encoded data removed]",
      "text/plain": [
       "<Figure size 576x432 with 1 Axes>"
      ]
     },
     "metadata": {
      "needs_background": "light"
     },
     "output_type": "display_data"
    }
   ],
   "source": [
    "x,y =np.mgrid[-500:500:1000j,-500:500:1000j]  # a 2D grid for defining domain and evaluation of source position\n",
    "\n",
    "rec_pos_modified = np.zeros_like(rec_pos_act)\n",
    "rec_pos_modified[:] = rec_pos_act[:]  # Can modify later if required\n",
    "\n",
    "plt.figure(figsize=(8,6))\n",
    "plt.plot(rec_pos_mes[:,0],rec_pos_mes[:,1],'b.',label='Receivers')\n",
    "plt.plot(src[0],src[1],'r^',label='Source position Actual')\n",
    "d=v*t_Rec_real[0]\n",
    "plt.plot(d*np.sin(phi_estimated),d*np.cos(phi_estimated),'g^',label='Source position estimated')\n",
    "\n",
    "#plt.plot(d*np.sin(np.pi-phi_estimated),d*np.cos(np.pi-phi_estimated),'g^',label='Source position estimated')\n",
    "#plt.plot(d*np.sin(np.pi/2-phi_estimated),d*np.cos(np.pi/2-phi_estimated),'g^',label='Source position estimated')\n",
    "plt.plot()\n",
    "plt.legend()\n",
    "#plt.xlim(-500,500)\n",
    "#plt.ylim(-500,500)\n",
    "plt.xlabel('X(m)')\n",
    "plt.ylabel('Y(m)')\n",
    "plt.axis('equal')\n",
    "\n",
    "plt.title('Error contour for receivers with error in both time of arrival and known position')\n",
    "plt.show()\n",
    "\n",
    "     "
   ]
  },
  {
   "cell_type": "markdown",
   "metadata": {},
   "source": [
    "Cause of the error is because the estimated position assumes that first receiver (at index 0) is at origin ,\\\\\n",
    "whereas this is not the case for circular configuration"
   ]
  },
  {
   "cell_type": "markdown",
   "metadata": {},
   "source": [
    "Configurations tried so far:\n",
    "linear,\n",
    "gaussian(negative results),\n",
    "circular"
   ]
  },
  {
   "cell_type": "markdown",
   "metadata": {},
   "source": [
    "Noise introduced in position has standard deviation 5m; and that in time has standard deviation 5/v"
   ]
  },
  {
   "cell_type": "code",
   "execution_count": 43,
   "metadata": {},
   "outputs": [],
   "source": [
    "def error_in_concurrency(v,n_rec,no_of_groups,n_in_this_grp,rec_loc,time,time_diff):\n",
    "    estimates_of_src=np.zeros(shape=(no_of_groups,2))\n",
    "    #iteration for group\n",
    "    for i in range(0,n_rec,n_in_this_grp):\n",
    "        print(i,i+n_in_this_grp)\n",
    "        new_rec_loc=np.zeros(shape=(n_in_this_grp,2))\n",
    "        for k in range(0,n_in_this_grp):\n",
    "            new_rec_loc[k][0]=rec_loc[k+i][0]-rec_loc[i][0]\n",
    "            new_rec_loc[k][1]=rec_loc[k+i][1]-rec_loc[i][1]\n",
    "        phi,error=estimate_slowness(v,n_in_this_grp,new_rec_loc,time_diff[i:i+n_in_this_grp])\n",
    "      \n",
    "        d_i=v*time[i]\n",
    "        print(d_i)\n",
    "        print(new_rec_loc)\n",
    "        print(\"phi: \", phi)\n",
    "        print(\"d_i*np.sin(phi): \",d_i*np.sin(phi),\"d_i*np.cos(phi): \",d_i*np.cos(phi))\n",
    "        print(\"rec_loc[i][0]+d_i*np.sin(phi): \",rec_loc[i][0]+d_i*np.sin(phi),\"rec_loc[i][1]+d_i*np.cos(phi): \",rec_loc[i][1]+d_i*np.cos(phi))\n",
    "        estimates_of_src[int(i/n_in_this_grp)]=(rec_loc[i][0]+d_i*np.sin(phi),rec_loc[i][1]+d_i*np.cos(phi))\n",
    "        error_in_conc=0\n",
    "        \n",
    "    for j in range(0,no_of_groups):   \n",
    "            error_in_conc+=np.sqrt((estimates_of_src[int(j)%int(no_of_groups)][0]-estimates_of_src[int(j+1)%int(no_of_groups)][0])**2\\\n",
    "    \n",
    "                                + (estimates_of_src[int(j)%int(no_of_groups)][1]-estimates_of_src[int(j+1)%int(no_of_groups)][1])**2)\n",
    "            \n",
    "\n",
    "    return error_in_conc ,estimates_of_src      \n",
    "    "
   ]
  },
  {
   "cell_type": "code",
   "execution_count": 44,
   "metadata": {
    "scrolled": false
   },
   "outputs": [
    {
     "name": "stdout",
     "output_type": "stream",
     "text": [
      "0 10\n",
      "7584.295616601452\n",
      "[[ 0.00000000e+00  0.00000000e+00]\n",
      " [-1.90983006e+01  5.87785252e+01]\n",
      " [-6.90983006e+01  9.51056516e+01]\n",
      " [-1.30901699e+02  9.51056516e+01]\n",
      " [-1.80901699e+02  5.87785252e+01]\n",
      " [-2.00000000e+02  1.22464680e-14]\n",
      " [-1.80901699e+02 -5.87785252e+01]\n",
      " [-1.30901699e+02 -9.51056516e+01]\n",
      " [-6.90983006e+01 -9.51056516e+01]\n",
      " [-1.90983006e+01 -5.87785252e+01]]\n",
      "phi:  1.3067519980206646\n",
      "d_i*np.sin(phi):  7321.441824018313 d_i*np.cos(phi):  1979.4013280573988\n",
      "rec_loc[i][0]+d_i*np.sin(phi):  7421.441824018313 rec_loc[i][1]+d_i*np.cos(phi):  1979.4013280573988\n",
      "10 20\n",
      "7580.8720985721575\n",
      "[[ 0.00000000e+00  0.00000000e+00]\n",
      " [-3.63271264e+01  5.00000000e+01]\n",
      " [-9.51056516e+01  6.90983006e+01]\n",
      " [-1.53884177e+02  5.00000000e+01]\n",
      " [-1.90211303e+02  1.42108547e-14]\n",
      " [-1.90211303e+02 -6.18033989e+01]\n",
      " [-1.53884177e+02 -1.11803399e+02]\n",
      " [-9.51056516e+01 -1.30901699e+02]\n",
      " [-3.63271264e+01 -1.11803399e+02]\n",
      " [ 0.00000000e+00 -6.18033989e+01]]\n",
      "phi:  1.308699795204876\n",
      "d_i*np.sin(phi):  7321.9768044136035 d_i*np.cos(phi):  1964.249844225268\n",
      "rec_loc[i][0]+d_i*np.sin(phi):  7417.082456043119 rec_loc[i][1]+d_i*np.cos(phi):  1995.1515436627626\n"
     ]
    }
   ],
   "source": [
    "distance_error,estimates=error_in_concurrency(v,n_rec,no_of_subsets,n_grp,rec_pos_mes,t_Rec_real,t_diff)\n"
   ]
  },
  {
   "cell_type": "code",
   "execution_count": 45,
   "metadata": {},
   "outputs": [
    {
     "name": "stdout",
     "output_type": "stream",
     "text": [
      "[[7421.44182402 1979.40132806]\n",
      " [7417.08245604 1995.15154366]] 32.684759797715586\n"
     ]
    }
   ],
   "source": [
    "print(estimates,distance_error)\n",
    "estimates[1]"
   ]
  },
  {
   "cell_type": "code",
   "execution_count": 46,
   "metadata": {},
   "outputs": [
    {
     "name": "stdout",
     "output_type": "stream",
     "text": [
      "(7412, 2014)\n"
     ]
    }
   ],
   "source": []
  },
  {
   "cell_type": "code",
   "execution_count": 55,
   "metadata": {},
   "outputs": [
    {
     "data": {
      "image/png": "[encoded data removed]",
      "text/plain": [
       "<Figure size 576x432 with 1 Axes>"
      ]
     },
     "metadata": {
      "needs_background": "light"
     },
     "output_type": "display_data"
    }
   ],
   "source": [
    " x,y =np.mgrid[-500:500:1000j,-500:500:1000j]  # a 2D grid for defining domain and evaluation of source position\n",
    "\n",
    "\n",
    "\n",
    "plt.figure(figsize=(8,6))\n",
    "plt.plot(rec_pos_mes[:,0],rec_pos_mes[:,1],'b.',label='Receivers')\n",
    "plt.plot(src[0],src[1],'r^',label='Source position Actual')\n",
    "d=v*t_Rec_real[n_grp]\n",
    "plt.plot(estimates[0][0],estimates[0][1],'g1',label='Source estimated by even indices')\n",
    "plt.plot(estimates[1][0],estimates[1][1],'g2',label='Source estimated by odd indices')\n",
    "plt.plot(src_estimated[0],src_estimated[1],'g^',label='Source estimated by all receivers')\n",
    "#plt.plot(d*np.sin(np.pi-phi_estimated),d*np.cos(np.pi-phi_estimated),'g^',label='Source position estimated')\n",
    "#plt.plot(d*np.sin(np.pi/2-phi_estimated),d*np.cos(np.pi/2-phi_estimated),'g^',label='Source position estimated')\n",
    "plt.plot()\n",
    "plt.legend()\n",
    "#plt.xlim(-500,500)\n",
    "#plt.ylim(-500,500)\n",
    "plt.xlabel('X(m)')\n",
    "plt.ylabel('Y(m)')\n",
    "plt.axis('equal')\n",
    "\n",
    "plt.title('Error contour for receivers with error in both time of arrival and known position')\n",
    "plt.show()\n",
    "\n",
    "     "
   ]
  },
  {
   "cell_type": "code",
   "execution_count": 25,
   "metadata": {},
   "outputs": [
    {
     "data": {
      "text/plain": [
       "0.05018147357211877"
      ]
     },
     "execution_count": 25,
     "metadata": {},
     "output_type": "execute_result"
    }
   ],
   "source": [
    "sum_of_errors(-np.sin(phi)/v,-np.cos(phi)/v,n_grp,new_rec_loc,t_diff[n_grp:2*n_grp])  "
   ]
  },
  {
   "cell_type": "code",
   "execution_count": 26,
   "metadata": {},
   "outputs": [
    {
     "data": {
      "text/plain": [
       "5.825676787396036"
      ]
     },
     "execution_count": 26,
     "metadata": {},
     "output_type": "execute_result"
    }
   ],
   "source": [
    " sum_of_errors(-np.sin(2*np.pi-phi)/v,-np.cos(2*np.pi-phi)/v,n_grp,new_rec_loc,t_diff[n_grp:2*n_grp])  "
   ]
  },
  {
   "cell_type": "code",
   "execution_count": null,
   "metadata": {},
   "outputs": [],
   "source": []
  }
 ],
 "metadata": {
  "kernelspec": {
   "display_name": "Python 3 (ipykernel)",
   "language": "python",
   "name": "python3"
  },
  "language_info": {
   "codemirror_mode": {
    "name": "ipython",
    "version": 3
   },
   "file_extension": ".py",
   "mimetype": "text/x-python",
   "name": "python",
   "nbconvert_exporter": "python",
   "pygments_lexer": "ipython3",
   "version": "3.9.5"
  }
 },
 "nbformat": 4,
 "nbformat_minor": 2
}
