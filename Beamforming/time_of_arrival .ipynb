{
 "cells": [
  {
   "cell_type": "code",
   "execution_count": 1,
   "id": "0bad4fcb",
   "metadata": {},
   "outputs": [],
   "source": [
    "from scipy.signal import filtfilt\n",
    "from scipy.signal import butter,lfilter\n",
    "from scipy.signal import freqs,freqz\n",
    "import numpy as np\n",
    "from scipy.fft import fft,ifft,fftfreq\n",
    "import pandas as pd\n",
    "import matplotlib.pyplot as plt \n",
    "from scipy.signal import hilbert\n",
    "from scipy import signal\n",
    "%matplotlib inline\n",
    "from plotly import __version__\n",
    "from statsmodels.tsa.ar_model import AutoReg \n",
    "import ipywidgets as widgets\n",
    "from obspy.signal.trigger import recursive_sta_lta,carl_sta_trig,plot_trigger#,trigger_onset\n",
    "from obspy.core.trace import Trace\n",
    "from collections import deque "
   ]
  },
  {
   "cell_type": "code",
   "execution_count": 2,
   "id": "7ff30bb9",
   "metadata": {},
   "outputs": [],
   "source": [
    "def butter_bandpass(lowcut, highcut, fs, order=5):#band pass filter using butter worth method\n",
    "    '''returns the coeffecients for an nth order bandpass filter\n",
    "    lowcut,highcut:- cutoff frequency\n",
    "    fs:- sampling frequency\n",
    "    order:-order if the filter\n",
    "    output \n",
    "    a,b:- poles and zeros for the transfer function\n",
    "    '''\n",
    "    nyq = 0.5 * fs#nyquist frequency\n",
    "    low = lowcut / nyq \n",
    "    high = highcut / nyq\n",
    "    b, a = butter(order, [low, high], btype='band')#parameters for filters/filter coefficients/coeff of digital transfer fn\n",
    "    return b, a# coefficients of numerator and denomenator polynomial"
   ]
  },
  {
   "cell_type": "code",
   "execution_count": 3,
   "id": "1b8a2234",
   "metadata": {},
   "outputs": [],
   "source": [
    "def butter_bandpass_filter(data, lowcut, highcut, fs, order=5):#band pass filter using butter worth method\n",
    "    '''returns the filtered data for a given data\n",
    "    data:-original data\n",
    "    lowcut,highcut:- cutoff frequency\n",
    "    fs:- sampling frequency\n",
    "    order:-order if the filter\n",
    "    \n",
    "    output\n",
    "    y:filtered data \n",
    "    '''\n",
    "    b, a = butter_bandpass(lowcut, highcut, fs, order=order)# coefficients of numerator and denomenator polynomial\n",
    "    y = lfilter(b, a, data)#fir filter\n",
    "    return y#filtered data"
   ]
  },
  {
   "cell_type": "code",
   "execution_count": 4,
   "id": "d3b84871",
   "metadata": {},
   "outputs": [],
   "source": [
    "def data_pack(X_data):\n",
    "    '''data pack is used to create an envelope around the original readings of the accelerometer \n",
    "    X:- original data'''\n",
    "    y = butter_bandpass_filter(X_data,0.001,2,810,order=5)# band pass filter between 5 and 7 hrtz\n",
    "    y=abs(y)# to convert negative data from accelerometer to positive value \n",
    "    y_max=np.max(y)# max value recorded by accelerometer\n",
    "    y_envelop=np.zeros_like(y)\n",
    "    y_envelop_2=np.zeros_like(y)\n",
    "    y_envelop[:]=(y[:]/y_max)-(y[:]/y_max)**2# a variable to almost map the original wave but with less ossciliations\n",
    "    for i in range(1,len(y)):\n",
    "        y_envelop_2[0]=y_envelop[0]\n",
    "        y_envelop_2[i]=np.max(y_envelop[i-1:i+1])#to reduce the osscilations even further and make the data more uniform \n",
    "    y_hilbert=np.imag(hilbert(y_envelop_2))\n",
    "    return y,y_hilbert, y_envelop_2"
   ]
  },
  {
   "cell_type": "code",
   "execution_count": 5,
   "id": "2412d346",
   "metadata": {},
   "outputs": [],
   "source": [
    "def trigger_event(thr_on,thr_off,k_or,sta_time=1,lta_time=60,df=1):\n",
    "    '''\n",
    "    returns the processed data in which only the data with event is diplayed\n",
    "    thr_on,off:= threshold for wave onset and offset\n",
    "    k_or,k,K_envelop_2,K_hilbert:- data and its processed form \n",
    "    lta,sta_time:- length of short time,long time window\n",
    "    output:\n",
    "    even:- an array that returns the actual even or set of events\n",
    "    len(on_off):-no of events present in the data\n",
    "    on,off:- points at which event starts and ends\n",
    "    '''\n",
    "    k,k_hilbert,k_envelop_2=data_pack(k_or)\n",
    "    ratio_sta_lta=np.zeros(len(k))\n",
    "    sta=0.#short term average \n",
    "    csta=1./sta_time# variable to reduce redudancy in writting the formula \n",
    "    clta=1./lta_time# variable to reduce redudancy in writting the formula \n",
    "    icsta=1-csta# variable to reduce redudancy in writting the formula \n",
    "    iclta=1-clta# variable to reduce redudancy in writting the formula \n",
    "    lta=1e-99# long term average \n",
    "    for i in range(len(k_envelop_2)):\n",
    "        k_new=np.sqrt((k_envelop_2[i]**2)+(k_hilbert[i]**2))#value manipulation using hilber method\n",
    "        sta=k_new*csta+icsta*sta\n",
    "        lta=k_new*clta+iclta*lta\n",
    "        if(i<lta_time):\n",
    "            ratio_sta_lta[i]=0\n",
    "        else:\n",
    "            ratio_sta_lta[i]=sta/lta\n",
    "    cft=ratio_sta_lta\n",
    "    plt.plot(cft)\n",
    "    trace=Trace(np.array(k_or))\n",
    "    npts = trace.stats.npts\n",
    "    t = np.arange(npts, dtype=np.float32) / df\n",
    "    cft1=np.array(cft)\n",
    "    on_off = np.array(trigger_onset(cft1, thr_on, thr_off))\n",
    "    even=np.zeros(len(k_or))\n",
    "    on=on_off[:,0]\n",
    "    off=on_off[:,1]\n",
    "    for i in range (0,len(on_off)):\n",
    "        even[on[i]-1:off[i]]=k_or[on[i]-1:off[i]]\n",
    "    return even,len(on),on,off"
   ]
  },
  {
   "cell_type": "code",
   "execution_count": 6,
   "id": "6f7775eb",
   "metadata": {},
   "outputs": [],
   "source": [
    "def data_pack(X_data):\n",
    "    '''data pack is used to create an envelope around the original readings of the accelerometer \n",
    "    X:- original data'''\n",
    "    y = butter_bandpass_filter(X_data,0.001,2,810,order=5)# band pass filter between 5 and 7 hrtz\n",
    "    y=abs(y)# to convert negative data from accelerometer to positive value \n",
    "    y_max=np.max(y)# max value recorded by accelerometer\n",
    "    y_envelop=np.zeros_like(y)\n",
    "    y_envelop_2=np.zeros_like(y)\n",
    "    y_envelop[:]=(y[:]/y_max)-(y[:]/y_max)**2# a variable to almost map the original wave but with less ossciliations\n",
    "    for i in range(1,len(y)):\n",
    "        y_envelop_2[0]=y_envelop[0]\n",
    "        y_envelop_2[i]=np.max(y_envelop[i-1:i+1])#to reduce the osscilations even further and make the data more uniform \n",
    "    y_hilbert=np.imag(hilbert(y_envelop_2))\n",
    "    return y,y_hilbert, y_envelop_2"
   ]
  },
  {
   "cell_type": "code",
   "execution_count": 7,
   "id": "e1a3d758",
   "metadata": {},
   "outputs": [],
   "source": [
    "def trigger_onset(charfct, thres1, thres2, max_len=9e99, max_len_delete=False):#to determine when the event is triggred and di triggered \n",
    "    '''function returns the indices of the the points where a trigger onset is detected  and the offset of wave is considered \n",
    "    charfct:- ratio(sta,lta)\n",
    "    threst1,2 threshold for wave onset and offset\n",
    "    output:\n",
    "    pick:- the indices at wich an event is hapening\n",
    "    '''\n",
    "    ind1 = np.where(charfct > thres1)[0]# for points when magnitude is above thresh 1 \n",
    "    if len(ind1) == 0:\n",
    "        return []\n",
    "    ind2 = np.where(charfct > thres2)[0]# for points when magnitude is above thresh 2\n",
    "    trigger_on = deque([ind1[0]])# for points when magnitude is above thresh 1\n",
    "    trigger_of = deque([-1])\n",
    "    # determine the indices where charfct falls below off-threshold\n",
    "    ind2_ = np.empty_like(ind2, dtype=bool)\n",
    "    ind2_[:-1] = np.diff(ind2) > 1# to give true for points where trigger goes below thresh 2 after the magnitude increases above thresh 1 \n",
    "    # last occurence is missed by the diff, add it manually\n",
    "    ind2_[-1] = True\n",
    "    trigger_of.extend(ind2[ind2_].tolist())# to create an array which stores point where the the event ends \n",
    "    trigger_on.extend(ind1[np.where(np.diff(ind1) > 100)[0] + 1].tolist()) # to create an array which stores the point where the event starts \n",
    "    # include last pick if trigger is on or drop it\n",
    "    if max_len_delete:# in case max_len_delete is true\n",
    "        # drop it\n",
    "        trigger_of.extend([1e99])\n",
    "        trigger_on.extend([on[-1]])\n",
    "    else:\n",
    "        # include it\n",
    "        trigger_of.extend([ind2[-1]])\n",
    "    #\n",
    "    pick = []\n",
    "    while trigger_on[-1] > trigger_of[0]: # some boundry conditions to avoid some conflicts \n",
    "        while  trigger_on[0] <=  trigger_of[0]:\n",
    "               trigger_on.popleft()# for because in case the value of sta/lta is greater than thresh 1 from the get go and can provide false triggers\n",
    "        while  trigger_of[0] <  trigger_on[0]:\n",
    "             trigger_of.popleft() # to remove the cases where the value is greater than thr 2 but not than thr 1 to avoid false triggers\n",
    "        if  trigger_of[0] -  trigger_on[0] > max_len:\n",
    "            if max_len_delete:\n",
    "                trigger_on.popleft()\n",
    "                continue\n",
    "            trigger_of.appendleft( trigger_on[0] + max_len)\n",
    "        pick.append([ trigger_on[0],  trigger_of[0]])\n",
    "    return np.array(pick, dtype=np.int64)\n"
   ]
  },
  {
   "cell_type": "code",
   "execution_count": 54,
   "id": "dc170f11",
   "metadata": {},
   "outputs": [],
   "source": [
    "def time_of_arrival(k_or,time,thr_on=1,thr_off=0.6,sta_time=1,lta_time=60,df=1):\n",
    "    '''\n",
    "    k_or=original data file\n",
    "    time=time file\n",
    "    thr_on=thereshhold value for starting of event\n",
    "    thr_off=thereshhold value for ending of event\n",
    "    sta_time=length of short term window\n",
    "    lta_length=length of long term window\n",
    "    df=sampling rate\n",
    "    \n",
    "    \n",
    "    eg:\n",
    "    recx_data=np.array(pd.read_csv('recx_data.csv'))\n",
    "    time=np.linspace(0,1000,810)\n",
    "    time_arrival=time_of_arrival(recx_data,time,df=810)\n",
    "    '''\n",
    "    event0,len_event0,index_on0,index_off0=trigger_event(thr_on,thr_off,k_or[0],sta_time,lta_time,df)\n",
    "    time_arrival=np.zeros((len(k_or),len_event0))\n",
    "    for k in range(len_event0):\n",
    "        time_arrival[0][k]=time[index_on0[k]]\n",
    "    for i in range(1,len(k_or)):\n",
    "        event,len_event,index_on,index_off=trigger_event(thr_on,thr_off,k_or[i],sta_time,lta_time,df)\n",
    "        for j in range(len_event0):\n",
    "            time_arrival[i][j]=time[index_on[j]]\n",
    "    return time_arrival"
   ]
  },
  {
   "cell_type": "code",
   "execution_count": 69,
   "id": "aec9f32c",
   "metadata": {},
   "outputs": [],
   "source": [
    "def time_mesured():\n",
    "    x_data=np.array(pd.read_csv('recx_data_circ100.csv'))\n",
    "    y_data=np.array(pd.read_csv('recy_data_circ100.csv'))\n",
    "    time=np.linspace(0,1000,810)\n",
    "    time_arrival_x=time_of_arrival(x_data,time,df=810)\n",
    "    time_arrival_y=time_of_arrival(y_data,time,df=810)\n",
    "     \n",
    "    time_arrival=np.add(time_arrival_x,time_arrival_y)/2\n",
    "    return time_arrrival\n",
    "    "
   ]
  },
  {
   "cell_type": "code",
   "execution_count": 55,
   "id": "bfb93c2b",
   "metadata": {},
   "outputs": [],
   "source": []
  },
  {
   "cell_type": "code",
   "execution_count": 63,
   "id": "502cf387",
   "metadata": {},
   "outputs": [],
   "source": []
  },
  {
   "cell_type": "code",
   "execution_count": 64,
   "id": "fd7b19da",
   "metadata": {},
   "outputs": [
    {
     "data": {
      "image/png": "[encoded data removed]",
      "text/plain": [
       "<Figure size 432x288 with 1 Axes>"
      ]
     },
     "metadata": {
      "needs_background": "light"
     },
     "output_type": "display_data"
    }
   ],
   "source": []
  },
  {
   "cell_type": "code",
   "execution_count": 65,
   "id": "f9442476",
   "metadata": {},
   "outputs": [
    {
     "data": {
      "text/plain": [
       "<matplotlib.collections.PathCollection at 0x253fe26c8e0>"
      ]
     },
     "execution_count": 65,
     "metadata": {},
     "output_type": "execute_result"
    },
    {
     "data": {
      "image/png": "[encoded data removed]",
      "text/plain": [
       "<Figure size 432x288 with 1 Axes>"
      ]
     },
     "metadata": {
      "needs_background": "light"
     },
     "output_type": "display_data"
    }
   ],
   "source": []
  },
  {
   "cell_type": "code",
   "execution_count": 66,
   "id": "6313ecac",
   "metadata": {},
   "outputs": [],
   "source": []
  },
  {
   "cell_type": "code",
   "execution_count": null,
   "id": "115ce3ae",
   "metadata": {},
   "outputs": [],
   "source": []
  },
  {
   "cell_type": "code",
   "execution_count": 68,
   "id": "72e0b9dd",
   "metadata": {},
   "outputs": [
    {
     "data": {
      "image/png": "[encoded data removed]",
      "text/plain": [
       "<Figure size 432x288 with 1 Axes>"
      ]
     },
     "metadata": {
      "needs_background": "light"
     },
     "output_type": "display_data"
    }
   ],
   "source": []
  },
  {
   "cell_type": "code",
   "execution_count": null,
   "id": "f6f10b66",
   "metadata": {},
   "outputs": [],
   "source": []
  },
  {
   "cell_type": "code",
   "execution_count": null,
   "id": "c47a5f36",
   "metadata": {},
   "outputs": [],
   "source": []
  }
 ],
 "metadata": {
  "kernelspec": {
   "display_name": "Python 3 (ipykernel)",
   "language": "python",
   "name": "python3"
  },
  "language_info": {
   "codemirror_mode": {
    "name": "ipython",
    "version": 3
   },
   "file_extension": ".py",
   "mimetype": "text/x-python",
   "name": "python",
   "nbconvert_exporter": "python",
   "pygments_lexer": "ipython3",
   "version": "3.9.5"
  }
 },
 "nbformat": 4,
 "nbformat_minor": 5
}
