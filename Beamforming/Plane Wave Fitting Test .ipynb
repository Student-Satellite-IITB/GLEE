{
 "cells": [
  {
   "cell_type": "markdown",
   "metadata": {},
   "source": [
    "# Plane Wave Fitting on Simulated Data\n",
    "14th December,2021  \\\n",
    "Author: Reet Mhaske \\\n",
    "Reference: https://gfzpublic.gfz-potsdam.de/rest/items/item_43213_6/component/file_56078/content"
   ]
  },
  {
   "cell_type": "markdown",
   "metadata": {},
   "source": [
    "plane wave fitting by iterating over all possible values of phi \\\n",
    "On multiple iterations of the code, it was observed that the estimated backazimuth is independent of the the initial velocity \\\n",
    "hence, we start with v=2000m/s and later on finding the estimate for backazimuth, we find the velocity of wave assuming that \\\n",
    "the wave propagates along the line of backazimuth, and by using the data of receivers that line on this line"
   ]
  },
  {
   "cell_type": "code",
   "execution_count": 1,
   "metadata": {},
   "outputs": [],
   "source": [
    "# importing the requiered libraries\n",
    "\n",
    "import numpy as np\n",
    "import matplotlib.pyplot as plt\n",
    "from sympy import *\n",
    "import random\n",
    "random.seed(0)\n",
    "np.random.seed(0)\n",
    "\n",
    "import toa as toa "
   ]
  },
  {
   "cell_type": "markdown",
   "metadata": {},
   "source": [
    "funtion that returns time of wave onset in the detector "
   ]
  },
  {
   "cell_type": "code",
   "execution_count": 2,
   "metadata": {},
   "outputs": [],
   "source": [
    "def time_measured(t,xdatafile,ydatafile,df=810):\n",
    "    x_data=np.array(toa.pd.read_csv(xdatafile))\n",
    "    y_data=np.array(toa.pd.read_csv(ydatafile))\n",
    "    time=np.linspace(0,t,810)\n",
    "    time_arrival_x=toa.time_of_arrival(x_data,time,df=810)\n",
    "    time_arrival_y=toa.time_of_arrival(y_data,time,df=810)\n",
    "     \n",
    "    time_arrival=np.add(time_arrival_x,time_arrival_y)/2\n",
    " \n",
    "    return time_arrival\n",
    "    "
   ]
  },
  {
   "cell_type": "code",
   "execution_count": 3,
   "metadata": {},
   "outputs": [
    {
     "name": "stdout",
     "output_type": "stream",
     "text": [
      "(100, 810)\n"
     ]
    },
    {
     "data": {
      "image/png": "[encoded data removed]",
      "text/plain": [
       "<Figure size 432x288 with 1 Axes>"
      ]
     },
     "metadata": {
      "needs_background": "light"
     },
     "output_type": "display_data"
    }
   ],
   "source": [
    "t=20\n",
    "x_data=np.array(toa.pd.read_csv('recx_data_circ100.csv'))\n",
    "y_data=np.array(toa.pd.read_csv('recy_data_circ100.csv'))\n",
    "time=np.linspace(0,t,810)\n",
    "time_arrival_x=toa.time_of_arrival(x_data,time,df=810)\n",
    "time_arrival_y=toa.time_of_arrival(y_data,time,df=810)\n",
    "     \n",
    "time_arrival=np.add(time_arrival_x,time_arrival_y)/2\n",
    "print(np.shape(x_data))\n"
   ]
  },
  {
   "cell_type": "code",
   "execution_count": null,
   "metadata": {},
   "outputs": [],
   "source": []
  },
  {
   "cell_type": "code",
   "execution_count": null,
   "metadata": {},
   "outputs": [],
   "source": []
  },
  {
   "cell_type": "code",
   "execution_count": null,
   "metadata": {},
   "outputs": [],
   "source": []
  },
  {
   "cell_type": "markdown",
   "metadata": {},
   "source": [
    "##### initialize no. of receivers, apparent horizontal velocity of sound, max frequency of source "
   ]
  },
  {
   "cell_type": "code",
   "execution_count": 4,
   "metadata": {},
   "outputs": [],
   "source": [
    "n_rec=100# number of receivers, to be kept odd for first run\n",
    "\n",
    "rec_pos_act= np.zeros(shape =(n_rec,2))  # Assigning thr actual receiver position\n",
    "\n",
    "v = 2000# m/s ### velocity of propagation (in sand)\n",
    "freq=10 #Hz, max recorded frequency\n",
    "lamda=v/freq# wavelength\n",
    "distance_limit=2000#m,  l=2000m  > 10 times lamda "
   ]
  },
  {
   "cell_type": "markdown",
   "metadata": {},
   "source": [
    "##### initialize position of source and  receivers "
   ]
  },
  {
   "cell_type": "code",
   "execution_count": 5,
   "metadata": {},
   "outputs": [],
   "source": [
    "#setting source configuration randomly\n",
    "\n",
    "#-->a=random.randrange(distance_limit-distance_limit/10,distance_limit*5) # sourec distance must be more than or equal to d , limits set here are arbitary within this acceptance\n",
    "#-->b=random.randrange(distance_limit-distance_limit/10,distance_limit*5)\n",
    "#-->src=(b,a)\n",
    "#-->random.randrange(distance_limit-distance_limit/10,distance_limit*5)\n",
    "\n",
    "#new source\n",
    "src=(1000-11000,1000-11000)\n",
    "#setting different receiver configurations\n",
    "\n",
    "#uncomment following line for random distribution\n",
    "rec_pos_act=np.random.normal(0,100,size=(n_rec,2))\n",
    "\n",
    "\n",
    "#uncomment following line for linear distribution\n",
    "#-->for i in range(0,n_rec):\n",
    "    #rec_pos_act[i,1]=0\n",
    "    #rec_pos_act[i,0]=(i-(n_rec-1)/2)*5 #first receievr at (-50,0) last at (50,0), all in line, distance 5 between them \n",
    "\n",
    "\n",
    "#uncomment following line for circular distribution    \n",
    "#for i in range(0,n_rec):\n",
    " #   rec_pos_act[i,0]=100*cos(i*2*np.pi/n_rec)\n",
    "  #  rec_pos_act[i,1]=100*sin(i*2*np.pi/n_rec) \n",
    "x_pos=np.array(toa.pd.read_csv('recx_pos_circ100.csv'))\n",
    "y_pos=np.array(toa.pd.read_csv('recy_pos_circ100.csv'))\n",
    "#rec_pos_act[0]=(0,0) #first receiver always at origin\n",
    "rec_pos_act[:,0]=x_pos.reshape(100,)\n",
    "rec_pos_act[:,1]=y_pos.reshape(100,)\n",
    "rec_pos_act-=(11000,11000)\n",
    "\n",
    "\n"
   ]
  },
  {
   "cell_type": "code",
   "execution_count": 6,
   "metadata": {},
   "outputs": [
    {
     "data": {
      "text/plain": [
       "<matplotlib.collections.PathCollection at 0x2606e98edc0>"
      ]
     },
     "execution_count": 6,
     "metadata": {},
     "output_type": "execute_result"
    },
    {
     "data": {
      "image/png": "[encoded data removed]",
      "text/plain": [
       "<Figure size 432x288 with 1 Axes>"
      ]
     },
     "metadata": {
      "needs_background": "light"
     },
     "output_type": "display_data"
    }
   ],
   "source": [
    "plt.scatter(rec_pos_act[:,0],rec_pos_act[:,1])"
   ]
  },
  {
   "cell_type": "markdown",
   "metadata": {},
   "source": [
    "initialize time recordings by time of arrival, introduce noise in time and position"
   ]
  },
  {
   "cell_type": "code",
   "execution_count": 7,
   "metadata": {},
   "outputs": [
    {
     "name": "stdout",
     "output_type": "stream",
     "text": [
      "(100, 1)\n",
      "(100, 1)\n",
      "rec_pos_mes:   (100, 2)  t_Rec_real:  (100, 1)\n"
     ]
    },
    {
     "data": {
      "image/png": "[encoded data removed]",
      "text/plain": [
       "<Figure size 432x288 with 1 Axes>"
      ]
     },
     "metadata": {
      "needs_background": "light"
     },
     "output_type": "display_data"
    }
   ],
   "source": [
    "\n",
    "\n",
    "t_rec_ideal = np.zeros(shape =(n_rec,))  # time recorded in each receiver; form: (index of receiver,time) \n",
    "\n",
    "\n",
    "t_noise=np.random.normal(0,5/(v),size=(n_rec,1))\n",
    "\n",
    "#introduce noise in position\n",
    "rec_pos_noise=np.random.normal(0,2.5,size=(n_rec,2))\n",
    "\n",
    "rec_pos_mes= rec_pos_act # + rec_pos_noise  # rec_pos_mes stores[(x1,y1),(x2,y2),..] \n",
    "\n",
    "\n",
    "\n",
    "#initialising time recordings\n",
    "\n",
    "#-->for i in range (0,n_rec):\n",
    " #-->   t_rec_ideal[0:n_rec] = np.sqrt((rec_pos_mes[0:n_rec,0]-src[0])**2 + (rec_pos_mes[0:n_rec,1]-src[1])**2)/v\n",
    "\n",
    "\n",
    "#redefine the time recordings from data files\n",
    "\n",
    "t_rec_ideal=time_measured(20,'recx_data_circ100.csv','recy_data_circ100.csv')\n",
    "print(np.shape(t_rec_ideal))\n",
    "print(np.shape(t_noise))\n",
    "\n",
    "\n",
    "### t_Rec_real has form [[rec1 recording], [rec2 recording]]\n",
    "\n",
    "\n",
    "\n",
    "\n",
    "# introduce noise in time\n",
    "t_Rec_real=t_rec_ideal #+ t_noise\n",
    "\n",
    "\n",
    "# time difference between time recordings wrt receiver 1st rec, \n",
    "#in the form : time recorded by receiver at ith position - time recorded by 1st receiver \n",
    "t_diff=np.zeros(shape=(n_rec,))\n",
    "for i in range(0,n_rec):\n",
    "    t_diff[i]=t_rec_ideal[i]-t_rec_ideal[0]\n",
    "    \n",
    "print(\"rec_pos_mes:  \",np.shape(rec_pos_mes),\" t_Rec_real: \",np.shape(t_Rec_real))   \n",
    "    \n",
    "    \n",
    "    "
   ]
  },
  {
   "cell_type": "markdown",
   "metadata": {},
   "source": [
    "We iterate over all values of the backazimuth $\\phi$ such that it minimizes the error expression for \n",
    "N receivers:\n",
    "$\\hat{s} = \\min_{s}\\sum_{i=1}^{N} (\\tau_{i} - r_{i}.s)^2 $\n",
    "where i is the index of the receivers\n",
    "$\\tau_{i}$ is the time difference for $i^{th}$ receiver\n",
    "where the slowness vector $\\vec{s}$ is defined as:\n",
    "$\\vec{s} = (-\\frac{\\sin{\\phi}}{v}, -\\frac{\\cos{\\phi}}{v})$"
   ]
  },
  {
   "cell_type": "code",
   "execution_count": 8,
   "metadata": {},
   "outputs": [],
   "source": [
    "#function to return the error expression for a particular s, v and given configuration of receivers : \n",
    "\n",
    "def sum_of_errors(s_x,s_y,n_rec,rec_loc,time_diff):\n",
    "    ''' returns the error expression for particular  slowness vector s , apparent horizontal velocity v, receiver positions, and time differences\\\n",
    "        input s in form of s_x and s_y ( x and y coordinate ) \\\n",
    "        input n_rec: number of receivers \\\n",
    "        input rec_loc: 2-D array for receiver location , in form [(x_1,y_1),...(x_n_rec,y_n_rec)]\\\n",
    "        input time_diff: 1-D array for time difference [(t_i)]'''  \n",
    "    soe=0 # sume of errors\n",
    "    # find sum over all receivers\n",
    "    for i in range (0,n_rec):\n",
    "        soe+=(time_diff[i]-s_x*rec_loc[i,0]-s_y*rec_loc[i,1])**2\n",
    "    return soe    "
   ]
  },
  {
   "cell_type": "code",
   "execution_count": 9,
   "metadata": {},
   "outputs": [],
   "source": [
    "#function to estimate slowness by iterating over backazimuth\n",
    "\n",
    "def estimate_backazimuth(v,n_rec,rec_loc,time_diff):\n",
    "    ''' returns estimated backazimuth and final error for the estimated backazimuth\\\n",
    "    input v: apparent horizontal velocity\\\n",
    "    inputn_rec: number of receivers\\\n",
    "    input rec_loc: 2-D array for receiver locations in form [(x_1,y_2)]\\\n",
    "    input time_diff: 1-D array for time difference [(t_i)]'''\n",
    "    phi_estimated=0\n",
    "    error=10000\n",
    "    phi_range = np.linspace(0,2*np.pi,200000)\n",
    "    for phi in phi_range :\n",
    "            soe=sum_of_errors(-np.sin(phi)/v,-np.cos(phi)/v,n_rec,rec_loc,time_diff)  \n",
    "            #print(s_x_temp,s_y_temp)\n",
    "            #print(soe)\n",
    "            #print(s_x_temp,s_y_temp\n",
    "            if ( error>soe):\n",
    "                error =soe\n",
    "                phi_estimated=phi\n",
    "    if (sum_of_errors(-np.sin(np.pi-phi_estimated)/v,-np.cos(np.pi-phi_estimated)/v,n_rec,rec_loc,time_diff)<error) :\n",
    "        error=sum_of_errors(-np.sin(np.pi-phi_estimated)/v,-np.cos(np.pi-phi_estimated)/v,n_rec,rec_loc,time_diff)\n",
    "        phi_estimated=np.pi-phi_estimated\n",
    "    return (phi_estimated,error)  "
   ]
  },
  {
   "cell_type": "markdown",
   "metadata": {},
   "source": [
    "Calling the above function to estimate velocity and error"
   ]
  },
  {
   "cell_type": "code",
   "execution_count": 10,
   "metadata": {
    "scrolled": false
   },
   "outputs": [
    {
     "name": "stdout",
     "output_type": "stream",
     "text": [
      "actual angle:  3.92699081699\n",
      "phi_estimated : 3.98830323117 \n",
      "final_error:  0.0917284358402\n",
      "index of receiver nearest to src on estimated backazimuth line:  61\n",
      "index of receiver farthest from src on estimated backazimuth line:    11\n",
      "index of receiver to receive the wave first:  65\n",
      "indx of receiver to receive the wave last:  15\n",
      "index of receiver nearest to src on actual backazimuth line:    62\n",
      "index of receiver farthest from src on actual backazimuth line:    12\n",
      "[ 1618.]\n",
      "difference in backazimuth:  0.0613124141877 \n",
      "percentage error in backazimuth:  1.56130780654 %\n",
      "d:  [ 16530.] estimated position:  (array([-12382.71195067]), array([-10950.31254105]))\n",
      "diff in location:  3627.78449348 m \n",
      "percentage error in position:  25.6523101602 %\n"
     ]
    }
   ],
   "source": [
    "phi_actual=np.arctan2(src[0],src[1]) #y first for arctan2,rotate axis (N is x now), so input x first\n",
    "if (phi_actual<0):\n",
    "    phi_actual+=2*np.pi\n",
    "              \n",
    "print(\"actual angle: \", phi_actual)\n",
    "phi_estimated,final_error=estimate_backazimuth(v,n_rec,rec_pos_mes,t_diff)\n",
    "print(\"phi_estimated :\",phi_estimated,\"\\nfinal_error: \", final_error)\n",
    "\n",
    "index_of_nearest_chip=int((5*np.pi/2-phi_estimated)%(2*np.pi)*100/(2*np.pi))\n",
    "index_of_farthest_chip=int((5*np.pi/2-phi_estimated-np.pi)%(2*np.pi)*100/(2*np.pi))\n",
    "\n",
    "print(\"index of receiver nearest to src on estimated backazimuth line: \",index_of_nearest_chip)\n",
    "print(\"index of receiver farthest from src on estimated backazimuth line:   \", index_of_farthest_chip)\n",
    "print(\"index of receiver to receive the wave first: \",list(t_Rec_real).index(t_Rec_real.min()))\n",
    "print(\"indx of receiver to receive the wave last: \",list(t_Rec_real).index(t_Rec_real.max()))\n",
    "print(\"index of receiver nearest to src on actual backazimuth line:   \",int((5*np.pi/2-phi_actual)%(2*np.pi)*100/(2*np.pi)))\n",
    "print(\"index of receiver farthest from src on actual backazimuth line:   \",int((5*np.pi/2-phi_actual-np.pi)%(2*np.pi)*100/(2*np.pi)))\n",
    "\n",
    "\n",
    "\n",
    "v=(np.sqrt(np.sum(np.square(np.subtract(rec_pos_mes[index_of_farthest_chip],rec_pos_mes[index_of_nearest_chip] )))))/\\\n",
    "(t_Rec_real[index_of_farthest_chip]-t_Rec_real[index_of_nearest_chip])/10\n",
    "print(v) \n",
    "\n",
    "d=v*(t_Rec_real[index_of_nearest_chip]+t_Rec_real[index_of_farthest_chip])/2\n",
    "print(\"difference in backazimuth: \",phi_estimated-phi_actual,\"\\npercentage error in backazimuth: \",((phi_estimated)/phi_actual-1)*100,\"%\"  )\n",
    "#src_position_estimated=(t)\n",
    "estimated_position=(d*np.sin(phi_estimated),d*np.cos(phi_estimated))\n",
    "print(\"d: \",d,\"estimated position: \", estimated_position)\n",
    "diff_in_loc=np.sqrt(np.sum(np.square(np.subtract(estimated_position,src))))\n",
    "print(\"diff in location: \" ,  diff_in_loc,\"m \")\n",
    "\n",
    "print(\"percentage error in position: \",diff_in_loc/(np.sqrt(src[0]**2+src[1]**2) )*100,\"%\")\n"
   ]
  },
  {
   "cell_type": "markdown",
   "metadata": {},
   "source": [
    "After knowing the backazimuth, we find the indices of receivers that lie on this line of  estimated backazimuth \\\n",
    "We find the indices of receivers ling along the line of true backazimuth and also the one that receive the wave the first and \\\n",
    "last (labeled the nearest and farthest from src respectively)"
   ]
  },
  {
   "cell_type": "code",
   "execution_count": 11,
   "metadata": {
    "scrolled": false
   },
   "outputs": [
    {
     "name": "stdout",
     "output_type": "stream",
     "text": [
      "index of receiver nearest to src on estimated backazimuth line:  61\n",
      "index of receiver farthest from src on estimated backazimuth line:    11\n",
      "index of receiver to receive the wave first:  65\n",
      "indx of receiver to receive the wave last:  15\n",
      "index of receiver nearest to src on actual backazimuth line:    62\n",
      "index of receiver farthest from src on actual backazimuth line:    12\n"
     ]
    }
   ],
   "source": [
    "index_of_nearest_chip=int((5*np.pi/2-phi_estimated)%(2*np.pi)*100/(2*np.pi))\n",
    "index_of_farthest_chip=int((5*np.pi/2-phi_estimated-np.pi)%(2*np.pi)*100/(2*np.pi))\n",
    "\n",
    "print(\"index of receiver nearest to src on estimated backazimuth line: \",index_of_nearest_chip)\n",
    "print(\"index of receiver farthest from src on estimated backazimuth line:   \", index_of_farthest_chip)\n",
    "print(\"index of receiver to receive the wave first: \",list(t_Rec_real).index(t_Rec_real.min()))\n",
    "print(\"indx of receiver to receive the wave last: \",list(t_Rec_real).index(t_Rec_real.max()))\n",
    "print(\"index of receiver nearest to src on actual backazimuth line:   \",int((5*np.pi/2-phi_actual)%(2*np.pi)*100/(2*np.pi)))\n",
    "print(\"index of receiver farthest from src on actual backazimuth line:   \",int((5*np.pi/2-phi_actual-np.pi)%(2*np.pi)*100/(2*np.pi)))"
   ]
  },
  {
   "cell_type": "code",
   "execution_count": null,
   "metadata": {},
   "outputs": [],
   "source": []
  },
  {
   "cell_type": "code",
   "execution_count": null,
   "metadata": {},
   "outputs": [],
   "source": []
  },
  {
   "cell_type": "code",
   "execution_count": 16,
   "metadata": {},
   "outputs": [
    {
     "name": "stdout",
     "output_type": "stream",
     "text": [
      "[ 16180.]\n"
     ]
    }
   ],
   "source": [
    "v=np.sqrt(np.sum(np.square(np.subtract(rec_pos_mes[index_of_farthest_chip],rec_pos_mes[index_of_nearest_chip] ))))/ \\\n",
    "                                    (t_Rec_real[index_of_farthest_chip]-t_Rec_real[index_of_nearest_chip])\n",
    "#finding velocity using the receivers that lie on the line of estimated backazimuth\n",
    "print(v)\n"
   ]
  },
  {
   "cell_type": "markdown",
   "metadata": {},
   "source": [
    "### The velocity of propagation\n",
    "the estimated velocity is greater than the permissible range ( ~1000m/s to 2000 m/s), we manually scale it down by 10"
   ]
  },
  {
   "cell_type": "code",
   "execution_count": 17,
   "metadata": {},
   "outputs": [],
   "source": [
    "v=v/10"
   ]
  },
  {
   "cell_type": "markdown",
   "metadata": {},
   "source": [
    "We plot the wave onset time for the receivers, \\\n",
    "the receiver hae been indexed starting from the receiever at y=, and positive x extreme of the circle and going anticlockwise "
   ]
  },
  {
   "cell_type": "code",
   "execution_count": 19,
   "metadata": {},
   "outputs": [
    {
     "data": {
      "text/plain": [
       "Text(0, 0.5, 'time of wave onset (in sec)')"
      ]
     },
     "execution_count": 19,
     "metadata": {},
     "output_type": "execute_result"
    },
    {
     "data": {
      "image/png": "[encoded data removed]",
      "text/plain": [
       "<Figure size 432x288 with 1 Axes>"
      ]
     },
     "metadata": {
      "needs_background": "light"
     },
     "output_type": "display_data"
    }
   ],
   "source": [
    "plt.scatter(np.linspace(0,100,100),t_Rec_real)\n",
    "plt.xlabel('index of receiver ')\n",
    "plt.ylabel('time of wave onset (in sec)')\n"
   ]
  },
  {
   "cell_type": "code",
   "execution_count": null,
   "metadata": {},
   "outputs": [],
   "source": []
  },
  {
   "cell_type": "code",
   "execution_count": 46,
   "metadata": {
    "scrolled": true
   },
   "outputs": [
    {
     "name": "stdout",
     "output_type": "stream",
     "text": [
      "pi- phi_estimated : -0.846710577585\n",
      " difference in backazimuth (diff of pi):  -4.77370139457  percentage error :  -121.561307807 %\n"
     ]
    }
   ],
   "source": [
    "\n",
    "print(\"pi- phi_estimated :\",np.pi-phi_estimated)\n",
    "print(\" difference in backazimuth (diff of pi): \",np.pi-phi_estimated-phi_actual,\" percentage error : \",((np.pi-phi_estimated)/phi_actual-1)*100,\"%\"  )\n"
   ]
  },
  {
   "cell_type": "markdown",
   "metadata": {},
   "source": [
    "###  Plot the results "
   ]
  },
  {
   "cell_type": "code",
   "execution_count": 47,
   "metadata": {},
   "outputs": [],
   "source": [
    "x=np.linspace(0,2*np.pi,2000)\n",
    "y=np.zeros(shape=(2000,))\n",
    "for i in range(0,2000):\n",
    "    y[i]=sum_of_errors(-sin(x[i])/v,-cos(x[i])/v,n_rec,rec_pos_mes,t_diff)"
   ]
  },
  {
   "cell_type": "code",
   "execution_count": 48,
   "metadata": {},
   "outputs": [
    {
     "data": {
      "text/plain": [
       "Text(0, 0.5, 'error in arbitary units')"
      ]
     },
     "execution_count": 48,
     "metadata": {},
     "output_type": "execute_result"
    },
    {
     "data": {
      "image/png": "[encoded data removed]",
      "text/plain": [
       "<Figure size 432x288 with 1 Axes>"
      ]
     },
     "metadata": {
      "needs_background": "light"
     },
     "output_type": "display_data"
    }
   ],
   "source": [
    "plt.plot(x,y)\n",
    "plt.xlabel(\"backazimuthal angle in radian\")\n",
    "plt.ylabel(\"error in arbitary units\")\n"
   ]
  },
  {
   "cell_type": "code",
   "execution_count": null,
   "metadata": {},
   "outputs": [],
   "source": []
  },
  {
   "cell_type": "code",
   "execution_count": 50,
   "metadata": {
    "scrolled": false
   },
   "outputs": [
    {
     "data": {
      "image/png": "[encoded data removed]",
      "text/plain": [
       "<Figure size 576x432 with 1 Axes>"
      ]
     },
     "metadata": {
      "needs_background": "light"
     },
     "output_type": "display_data"
    }
   ],
   "source": [
    "x,y =np.mgrid[-500:500:1000j,-500:500:1000j]  # a 2D grid for defining domain and evaluation of source position\n",
    "\n",
    "\n",
    "plt.figure(figsize=(8,6))\n",
    "plt.plot(rec_pos_mes[:,0],rec_pos_mes[:,1],'b.',label='Receivers')\n",
    "plt.plot(-11000,-11000,'r^',label='Source position Actual')\n",
    "d=v*t_Rec_real[0]\n",
    "plt.plot(d*np.sin(phi_estimated),d*np.cos(phi_estimated),'g^',label='Source position estimated')\n",
    "\n",
    "#plt.plot(d*np.sin(np.pi-phi_estimated),d*np.cos(np.pi-phi_estimated),'g^',label='Source position estimated')\n",
    "#plt.plot(d*np.sin(np.pi/2-phi_estimated),d*np.cos(np.pi/2-phi_estimated),'g^',label='Source position estimated')\n",
    "plt.plot()\n",
    "plt.legend()\n",
    "#plt.xlim(-500,500)\n",
    "#plt.ylim(-500,500)\n",
    "plt.xlabel('X(m)')\n",
    "plt.ylabel('Y(m)')\n",
    "plt.axis('equal')\n",
    "\n",
    "plt.title('estimated source position')\n",
    "plt.show()\n",
    "\n",
    "     "
   ]
  },
  {
   "cell_type": "markdown",
   "metadata": {},
   "source": [
    "Key Limitations:"
   ]
  },
  {
   "cell_type": "markdown",
   "metadata": {},
   "source": [
    "Cause of the error is because the estimated position assumes that first receiver (at index 0) is at origin "
   ]
  },
  {
   "cell_type": "markdown",
   "metadata": {},
   "source": [
    "Configurations tried so far:\n",
    "linear,\n",
    "gaussian(negative results),\n",
    "circular"
   ]
  },
  {
   "cell_type": "markdown",
   "metadata": {},
   "source": [
    "Noise introduced in position has standard deviation 2.5m; and that in time has standard deviation 5/v"
   ]
  },
  {
   "cell_type": "markdown",
   "metadata": {},
   "source": [
    "Distance of source from receivers should be more than 10 times the wavelength"
   ]
  },
  {
   "cell_type": "markdown",
   "metadata": {},
   "source": [
    "the error in backazimuth is magnified on multiplying by distance as is observed "
   ]
  },
  {
   "cell_type": "code",
   "execution_count": null,
   "metadata": {},
   "outputs": [],
   "source": []
  }
 ],
 "metadata": {
  "kernelspec": {
   "display_name": "Python 3 (ipykernel)",
   "language": "python",
   "name": "python3"
  },
  "language_info": {
   "codemirror_mode": {
    "name": "ipython",
    "version": 3
   },
   "file_extension": ".py",
   "mimetype": "text/x-python",
   "name": "python",
   "nbconvert_exporter": "python",
   "pygments_lexer": "ipython3",
   "version": "3.9.5"
  }
 },
 "nbformat": 4,
 "nbformat_minor": 2
}
