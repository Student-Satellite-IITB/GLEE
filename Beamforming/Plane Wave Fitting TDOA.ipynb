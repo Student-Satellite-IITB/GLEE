{
 "cells": [
  {
   "cell_type": "markdown",
   "metadata": {},
   "source": [
    "# Plane Wave Fitting on Simulated Data\n",
    "14th December,2021  \\\n",
    "Author: Reet Mhaske \\\n",
    "Reference: https://gfzpublic.gfz-potsdam.de/rest/items/item_43213_6/component/file_56078/content"
   ]
  },
  {
   "cell_type": "markdown",
   "metadata": {},
   "source": [
    "plane wave fitting by iterating over all possible values of phi \\\n",
    "On multiple iterations of the code, it was observed that the estimated backazimuth is independent of the the initial velocity \\\n",
    "hence, we start with v=2000m/s and later on finding the estimate for backazimuth, we find the velocity of wave assuming that \\\n",
    "the wave propagates along the line of backazimuth, and by using the data of receivers that line on this line"
   ]
  },
  {
   "cell_type": "code",
   "execution_count": 1,
   "metadata": {},
   "outputs": [],
   "source": [
    "# importing the requiered libraries\n",
    "\n",
    "import numpy as np\n",
    "import matplotlib.pyplot as plt\n",
    "from sympy import *\n",
    "import random\n",
    "random.seed(0)\n",
    "np.random.seed(0)\n",
    "\n",
    "import toa as toa "
   ]
  },
  {
   "cell_type": "markdown",
   "metadata": {},
   "source": [
    "funtion that returns time of wave onset in the detector "
   ]
  },
  {
   "cell_type": "code",
   "execution_count": 2,
   "metadata": {},
   "outputs": [],
   "source": [
    "def time_measured(t,xdatafile,ydatafile,df=810):\n",
    "    x_data=np.array(toa.pd.read_csv(xdatafile))\n",
    "    y_data=np.array(toa.pd.read_csv(ydatafile))\n",
    "    time=np.linspace(0,t,810)\n",
    "    time_arrival_x=toa.time_of_arrival(x_data,time,df=810)\n",
    "    time_arrival_y=toa.time_of_arrival(y_data,time,df=810)\n",
    "     \n",
    "    time_arrival=np.add(time_arrival_x,time_arrival_y)/2\n",
    " \n",
    "    return time_arrival\n",
    "    "
   ]
  },
  {
   "cell_type": "code",
   "execution_count": 3,
   "metadata": {},
   "outputs": [
    {
     "name": "stdout",
     "output_type": "stream",
     "text": [
      "(100, 810)\n"
     ]
    },
    {
     "data": {
      "image/png": "[encoded data removed]",
      "text/plain": [
       "<Figure size 432x288 with 1 Axes>"
      ]
     },
     "metadata": {
      "needs_background": "light"
     },
     "output_type": "display_data"
    }
   ],
   "source": [
    "t=20\n",
    "x_data=np.array(toa.pd.read_csv('recx_data_circ100.csv'))\n",
    "y_data=np.array(toa.pd.read_csv('recy_data_circ100.csv'))\n",
    "time=np.linspace(0,t,810)\n",
    "time_arrival_x=toa.time_of_arrival(x_data,time,df=810)\n",
    "time_arrival_y=toa.time_of_arrival(y_data,time,df=810)\n",
    "     \n",
    "time_arrival=np.add(time_arrival_x,time_arrival_y)/2\n",
    "print(np.shape(x_data))\n"
   ]
  },
  {
   "cell_type": "code",
   "execution_count": null,
   "metadata": {},
   "outputs": [],
   "source": []
  },
  {
   "cell_type": "code",
   "execution_count": null,
   "metadata": {},
   "outputs": [],
   "source": []
  },
  {
   "cell_type": "code",
   "execution_count": null,
   "metadata": {},
   "outputs": [],
   "source": []
  },
  {
   "cell_type": "markdown",
   "metadata": {},
   "source": [
    "##### initialize no. of receivers, apparent horizontal velocity of sound, max frequency of source "
   ]
  },
  {
   "cell_type": "code",
   "execution_count": 4,
   "metadata": {},
   "outputs": [],
   "source": [
    "n_rec=100# number of receivers, to be kept odd for first run\n",
    "\n",
    "rec_pos_act= np.zeros(shape =(n_rec,2))  # Assigning thr actual receiver position\n",
    "\n",
    "v = 2000# m/s ### velocity of propagation (in sand)\n",
    "freq=10 #Hz, max recorded frequency\n",
    "lamda=v/freq# wavelength\n",
    "distance_limit=2000#m,  l=2000m  > 10 times lamda "
   ]
  },
  {
   "cell_type": "markdown",
   "metadata": {},
   "source": [
    "##### initialize position of source and  receivers "
   ]
  },
  {
   "cell_type": "code",
   "execution_count": 5,
   "metadata": {},
   "outputs": [],
   "source": [
    "#setting source configuration randomly\n",
    "\n",
    "#-->a=random.randrange(distance_limit-distance_limit/10,distance_limit*5) # sourec distance must be more than or equal to d , limits set here are arbitary within this acceptance\n",
    "#-->b=random.randrange(distance_limit-distance_limit/10,distance_limit*5)\n",
    "#-->src=(b,a)\n",
    "#-->random.randrange(distance_limit-distance_limit/10,distance_limit*5)\n",
    "\n",
    "#new source\n",
    "src=(1000-11000,1000-11000)\n",
    "#setting different receiver configurations\n",
    "\n",
    "#uncomment following line for random distribution\n",
    "rec_pos_act=np.random.normal(0,100,size=(n_rec,2))\n",
    "\n",
    "\n",
    "#uncomment following line for linear distribution\n",
    "#-->for i in range(0,n_rec):\n",
    "    #rec_pos_act[i,1]=0\n",
    "    #rec_pos_act[i,0]=(i-(n_rec-1)/2)*5 #first receievr at (-50,0) last at (50,0), all in line, distance 5 between them \n",
    "\n",
    "\n",
    "#uncomment following line for circular distribution    \n",
    "#for i in range(0,n_rec):\n",
    " #   rec_pos_act[i,0]=100*cos(i*2*np.pi/n_rec)\n",
    "  #  rec_pos_act[i,1]=100*sin(i*2*np.pi/n_rec) \n",
    "x_pos=np.array(toa.pd.read_csv('recx_pos_circ100.csv'))\n",
    "y_pos=np.array(toa.pd.read_csv('recy_pos_circ100.csv'))\n",
    "#rec_pos_act[0]=(0,0) #first receiver always at origin\n",
    "rec_pos_act[:,0]=x_pos.reshape(100,)\n",
    "rec_pos_act[:,1]=y_pos.reshape(100,)\n",
    "rec_pos_act-=(11000,11000)\n",
    "\n",
    "\n"
   ]
  },
  {
   "cell_type": "code",
   "execution_count": 6,
   "metadata": {},
   "outputs": [
    {
     "data": {
      "text/plain": [
       "<matplotlib.collections.PathCollection at 0x1c2d7269dc0>"
      ]
     },
     "execution_count": 6,
     "metadata": {},
     "output_type": "execute_result"
    },
    {
     "data": {
      "image/png": "[encoded data removed]",
      "text/plain": [
       "<Figure size 432x288 with 1 Axes>"
      ]
     },
     "metadata": {
      "needs_background": "light"
     },
     "output_type": "display_data"
    }
   ],
   "source": [
    "plt.scatter(rec_pos_act[:,0],rec_pos_act[:,1])"
   ]
  },
  {
   "cell_type": "markdown",
   "metadata": {},
   "source": [
    "initialize time recordings by time of arrival, introduce noise in time and position"
   ]
  },
  {
   "cell_type": "code",
   "execution_count": 11,
   "metadata": {},
   "outputs": [
    {
     "name": "stdout",
     "output_type": "stream",
     "text": [
      "(100, 1)\n",
      "(100, 1)\n",
      "rec_pos_mes:   (100, 2)  t_Rec_real:  (100, 1)\n"
     ]
    },
    {
     "data": {
      "image/png": "[encoded data removed]",
      "text/plain": [
       "<Figure size 432x288 with 1 Axes>"
      ]
     },
     "metadata": {
      "needs_background": "light"
     },
     "output_type": "display_data"
    }
   ],
   "source": [
    "import random\n",
    "\n",
    "t_rec_ideal = np.zeros(shape =(n_rec,))  # time recorded in each receiver; form: (index of receiver,time) \n",
    "\n",
    "\n",
    "t_noise=np.random.normal(0,5/2000,size=(n_rec,1))\n",
    "\n",
    "#introduce noise in position\n",
    "rec_pos_noise=np.random.normal(0,5,size=(n_rec,2))\n",
    "\n",
    "rec_pos_mes= rec_pos_act  + rec_pos_noise  # rec_pos_mes stores[(x1,y1),(x2,y2),..] \n",
    "\n",
    "\n",
    "\n",
    "#initialising time recordings\n",
    "\n",
    "#-->for i in range (0,n_rec):\n",
    " #-->   t_rec_ideal[0:n_rec] = np.sqrt((rec_pos_mes[0:n_rec,0]-src[0])**2 + (rec_pos_mes[0:n_rec,1]-src[1])**2)/v\n",
    "\n",
    "\n",
    "#redefine the time recordings from data files\n",
    "\n",
    "t_rec_ideal=time_measured(20,'recx_data_circ100.csv','recy_data_circ100.csv')\n",
    "print(np.shape(t_rec_ideal))\n",
    "print(np.shape(t_noise))\n",
    "\n",
    "\n",
    "### t_Rec_real has form [[rec1 recording], [rec2 recording]]\n",
    "\n",
    "\n",
    "\n",
    "\n",
    "# introduce noise in time\n",
    "t_Rec_real=t_rec_ideal + t_noise\n",
    "\n",
    "invert=random.sample(range(0,n_rec-1),int(n_rec/2))\n",
    "for i in invert:\n",
    "    t_Rec_real[i]=-t_Rec_real[i]\n",
    "#time difference between time recordings wrt receiver 1st rec, \n",
    "#in the form : time recorded by receiver at ith position - time recorded by 1st receiver \n",
    "t_diff=np.zeros(shape=(n_rec,))\n",
    "for i in range(0,n_rec):\n",
    "    t_diff[i]=t_rec_ideal[i]-t_rec_ideal[0]\n",
    "    \n",
    "print(\"rec_pos_mes:  \",np.shape(rec_pos_mes),\" t_Rec_real: \",np.shape(t_Rec_real))   \n",
    "    \n",
    "    \n",
    "    "
   ]
  },
  {
   "cell_type": "code",
   "execution_count": 12,
   "metadata": {},
   "outputs": [
    {
     "data": {
      "text/plain": [
       "<matplotlib.collections.PathCollection at 0x1c2d70a8520>"
      ]
     },
     "execution_count": 12,
     "metadata": {},
     "output_type": "execute_result"
    },
    {
     "data": {
      "image/png": "[encoded data removed]",
      "text/plain": [
       "<Figure size 432x288 with 1 Axes>"
      ]
     },
     "metadata": {
      "needs_background": "light"
     },
     "output_type": "display_data"
    }
   ],
   "source": [
    "plt.scatter(rec_pos_mes[:,0],rec_pos_mes[:,1])"
   ]
  },
  {
   "cell_type": "markdown",
   "metadata": {},
   "source": [
    "We iterate over all values of the backazimuth $\\phi$ such that it minimizes the error expression for \n",
    "N receivers:\n",
    "$\\hat{s} = \\min_{s}\\sum_{i=1}^{N} (\\tau_{i} - r_{i}.s)^2 $\n",
    "where i is the index of the receivers\n",
    "$\\tau_{i}$ is the time difference for $i^{th}$ receiver\n",
    "where the slowness vector $\\vec{s}$ is defined as:\n",
    "$\\vec{s} = (-\\frac{\\sin{\\phi}}{v}, -\\frac{\\cos{\\phi}}{v})$"
   ]
  },
  {
   "cell_type": "code",
   "execution_count": 13,
   "metadata": {},
   "outputs": [],
   "source": [
    "#function to return the error expression for a particular s, v and given configuration of receivers : \n",
    "\n",
    "def sum_of_errors(s_x,s_y,n_rec,rec_loc,time_diff):\n",
    "    ''' returns the error expression for particular  slowness vector s , apparent horizontal velocity v, receiver positions, and time differences\\\n",
    "        input s in form of s_x and s_y ( x and y coordinate ) \\\n",
    "        input n_rec: number of receivers \\\n",
    "        input rec_loc: 2-D array for receiver location , in form [(x_1,y_1),...(x_n_rec,y_n_rec)]\\\n",
    "        input time_diff: 1-D array for time difference [(t_i)]'''  \n",
    "    soe=0 # sume of errors\n",
    "    # find sum over all receivers\n",
    "    for i in range (0,n_rec):\n",
    "        soe+=(time_diff[i]-s_x*rec_loc[i,0]-s_y*rec_loc[i,1])**2\n",
    "    return soe    "
   ]
  },
  {
   "cell_type": "code",
   "execution_count": 14,
   "metadata": {},
   "outputs": [],
   "source": [
    "#function to estimate slowness by iterating over backazimuth\n",
    "\n",
    "def estimate_backazimuth(v,n_rec,rec_loc,time_diff):\n",
    "    ''' returns estimated backazimuth and final error for the estimated backazimuth\\\n",
    "    input v: apparent horizontal velocity\\\n",
    "    inputn_rec: number of receivers\\\n",
    "    input rec_loc: 2-D array for receiver locations in form [(x_1,y_2)]\\\n",
    "    input time_diff: 1-D array for time difference [(t_i)]'''\n",
    "    phi_estimated=0\n",
    "    error=10000\n",
    "    phi_range = np.linspace(0,2*np.pi,200000)\n",
    "    for phi in phi_range :\n",
    "            soe=sum_of_errors(-np.sin(phi)/v,-np.cos(phi)/v,n_rec,rec_loc,time_diff)  \n",
    "            #print(s_x_temp,s_y_temp)\n",
    "            #print(soe)\n",
    "            #print(s_x_temp,s_y_temp\n",
    "            if ( error>soe):\n",
    "                error =soe\n",
    "                phi_estimated=phi\n",
    "    if (sum_of_errors(-np.sin(np.pi-phi_estimated)/v,-np.cos(np.pi-phi_estimated)/v,n_rec,rec_loc,time_diff)<error) :\n",
    "        error=sum_of_errors(-np.sin(np.pi-phi_estimated)/v,-np.cos(np.pi-phi_estimated)/v,n_rec,rec_loc,time_diff)\n",
    "        phi_estimated=np.pi-phi_estimated\n",
    "    return (phi_estimated,error)  "
   ]
  },
  {
   "cell_type": "markdown",
   "metadata": {},
   "source": [
    "Calling the above function to estimate velocity and error"
   ]
  },
  {
   "cell_type": "code",
   "execution_count": 15,
   "metadata": {
    "scrolled": false
   },
   "outputs": [
    {
     "name": "stdout",
     "output_type": "stream",
     "text": [
      "actual angle:  3.92699081699\n",
      "phi_estimated : 3.95883494474 \n",
      "final_error:  0.0931707456142\n",
      "index of receiver nearest to src on estimated backazimuth line:  61\n",
      "index of receiver farthest from src on estimated backazimuth line:    11\n",
      "index of receiver to receive the wave first:  12\n",
      "indx of receiver to receive the wave last:  15\n",
      "index of receiver nearest to src on actual backazimuth line:    62\n",
      "index of receiver farthest from src on actual backazimuth line:    12\n",
      "[ 0.99439599]\n",
      "difference in backazimuth:  0.0318441277556 \n",
      "percentage error in backazimuth:  0.81090405452 %\n",
      "d:  [ 0.00336971] estimated position:  (array([-0.0024574]), array([-0.00230568]))\n",
      "diff in location:  19999.9952369 m \n",
      "percentage error in position:  141.421322557 %\n"
     ]
    }
   ],
   "source": [
    "phi_actual=np.arctan2(src[0],src[1]) #y first for arctan2,rotate axis (N is x now), so input x first\n",
    "if (phi_actual<0):\n",
    "    phi_actual+=2*np.pi\n",
    "              \n",
    "print(\"actual angle: \", phi_actual)\n",
    "phi_estimated,final_error=estimate_backazimuth(v,n_rec,rec_pos_mes,t_diff)\n",
    "print(\"phi_estimated :\",phi_estimated,\"\\nfinal_error: \", final_error)\n",
    "\n",
    "index_of_nearest_chip=int((5*np.pi/2-phi_estimated)%(2*np.pi)*100/(2*np.pi))\n",
    "index_of_farthest_chip=int((5*np.pi/2-phi_estimated-np.pi)%(2*np.pi)*100/(2*np.pi))\n",
    "\n",
    "print(\"index of receiver nearest to src on estimated backazimuth line: \",index_of_nearest_chip)\n",
    "print(\"index of receiver farthest from src on estimated backazimuth line:   \", index_of_farthest_chip)\n",
    "print(\"index of receiver to receive the wave first: \",list(t_Rec_real).index(t_Rec_real.min()))\n",
    "print(\"indx of receiver to receive the wave last: \",list(t_Rec_real).index(t_Rec_real.max()))\n",
    "print(\"index of receiver nearest to src on actual backazimuth line:   \",int((5*np.pi/2-phi_actual)%(2*np.pi)*100/(2*np.pi)))\n",
    "print(\"index of receiver farthest from src on actual backazimuth line:   \",int((5*np.pi/2-phi_actual-np.pi)%(2*np.pi)*100/(2*np.pi)))\n",
    "\n",
    "\n",
    "\n",
    "v=(np.sqrt(np.sum(np.square(np.subtract(rec_pos_mes[index_of_farthest_chip],rec_pos_mes[index_of_nearest_chip] )))))/\\\n",
    "(t_Rec_real[index_of_farthest_chip]-t_Rec_real[index_of_nearest_chip])/10\n",
    "print(v) \n",
    "\n",
    "d=v*(t_Rec_real[index_of_nearest_chip]+t_Rec_real[index_of_farthest_chip])/2\n",
    "print(\"difference in backazimuth: \",phi_estimated-phi_actual,\"\\npercentage error in backazimuth: \",((phi_estimated)/phi_actual-1)*100,\"%\"  )\n",
    "#src_position_estimated=(t)\n",
    "estimated_position=(d*np.sin(phi_estimated),d*np.cos(phi_estimated))\n",
    "print(\"d: \",d,\"estimated position: \", estimated_position)\n",
    "diff_in_loc=np.sqrt(np.sum(np.square(np.subtract(estimated_position,src))))\n",
    "print(\"diff in location: \" ,  diff_in_loc,\"m \")\n",
    "\n",
    "print(\"percentage error in position: \",diff_in_loc/(np.sqrt(src[0]**2+src[1]**2) )*100,\"%\")\n"
   ]
  },
  {
   "cell_type": "markdown",
   "metadata": {},
   "source": [
    "After knowing the backazimuth, we find the indices of receivers that lie on this line of  estimated backazimuth \\\n",
    "We find the indices of receivers ling along the line of true backazimuth and also the one that receive the wave the first and \\\n",
    "last (labeled the nearest and farthest from src respectively)"
   ]
  },
  {
   "cell_type": "code",
   "execution_count": 16,
   "metadata": {
    "scrolled": false
   },
   "outputs": [
    {
     "name": "stdout",
     "output_type": "stream",
     "text": [
      "index of receiver nearest to src on estimated backazimuth line:  61\n",
      "index of receiver farthest from src on estimated backazimuth line:    11\n",
      "index of receiver to receive the wave first:  12\n",
      "indx of receiver to receive the wave last:  15\n",
      "index of receiver nearest to src on actual backazimuth line:    62\n",
      "index of receiver farthest from src on actual backazimuth line:    12\n"
     ]
    }
   ],
   "source": [
    "index_of_nearest_chip=int((5*np.pi/2-phi_estimated)%(2*np.pi)*100/(2*np.pi))\n",
    "index_of_farthest_chip=int((5*np.pi/2-phi_estimated-np.pi)%(2*np.pi)*100/(2*np.pi))\n",
    "\n",
    "print(\"index of receiver nearest to src on estimated backazimuth line: \",index_of_nearest_chip)\n",
    "print(\"index of receiver farthest from src on estimated backazimuth line:   \", index_of_farthest_chip)\n",
    "print(\"index of receiver to receive the wave first: \",list(t_Rec_real).index(t_Rec_real.min()))\n",
    "print(\"indx of receiver to receive the wave last: \",list(t_Rec_real).index(t_Rec_real.max()))\n",
    "print(\"index of receiver nearest to src on actual backazimuth line:   \",int((5*np.pi/2-phi_actual)%(2*np.pi)*100/(2*np.pi)))\n",
    "print(\"index of receiver farthest from src on actual backazimuth line:   \",int((5*np.pi/2-phi_actual-np.pi)%(2*np.pi)*100/(2*np.pi)))"
   ]
  },
  {
   "cell_type": "code",
   "execution_count": null,
   "metadata": {},
   "outputs": [],
   "source": []
  },
  {
   "cell_type": "code",
   "execution_count": null,
   "metadata": {},
   "outputs": [],
   "source": []
  },
  {
   "cell_type": "code",
   "execution_count": 17,
   "metadata": {},
   "outputs": [
    {
     "name": "stdout",
     "output_type": "stream",
     "text": [
      "[ 9.94395986]\n"
     ]
    }
   ],
   "source": [
    "v=np.sqrt(np.sum(np.square(np.subtract(rec_pos_mes[index_of_farthest_chip],rec_pos_mes[index_of_nearest_chip] ))))/ \\\n",
    "                                    (t_Rec_real[index_of_farthest_chip]-t_Rec_real[index_of_nearest_chip])\n",
    "#finding velocity using the receivers that lie on the line of estimated backazimuth\n",
    "print(v)\n"
   ]
  },
  {
   "cell_type": "markdown",
   "metadata": {},
   "source": [
    "### The velocity of propagation\n",
    "the estimated velocity is greater than the permissible range ( ~1000m/s to 2000 m/s), we manually scale it down by 10"
   ]
  },
  {
   "cell_type": "code",
   "execution_count": 18,
   "metadata": {},
   "outputs": [],
   "source": [
    "v=v/10"
   ]
  },
  {
   "cell_type": "markdown",
   "metadata": {},
   "source": [
    "We plot the wave onset time for the receivers, \\\n",
    "the receiver hae been indexed starting from the receiever at y=, and positive x extreme of the circle and going anticlockwise "
   ]
  },
  {
   "cell_type": "code",
   "execution_count": 19,
   "metadata": {},
   "outputs": [
    {
     "data": {
      "text/plain": [
       "Text(0, 0.5, 'time of wave onset (in sec)')"
      ]
     },
     "execution_count": 19,
     "metadata": {},
     "output_type": "execute_result"
    },
    {
     "data": {
      "image/png": "[encoded data removed]",
      "text/plain": [
       "<Figure size 432x288 with 1 Axes>"
      ]
     },
     "metadata": {
      "needs_background": "light"
     },
     "output_type": "display_data"
    }
   ],
   "source": [
    "plt.scatter(np.linspace(0,100,100),t_Rec_real)\n",
    "plt.xlabel('index of receiver ')\n",
    "plt.ylabel('time of wave onset (in sec)')\n"
   ]
  },
  {
   "cell_type": "code",
   "execution_count": null,
   "metadata": {},
   "outputs": [],
   "source": []
  },
  {
   "cell_type": "code",
   "execution_count": 20,
   "metadata": {
    "scrolled": true
   },
   "outputs": [
    {
     "name": "stdout",
     "output_type": "stream",
     "text": [
      "pi- phi_estimated : -0.817242291153\n",
      " difference in backazimuth (diff of pi):  -4.74423310814  percentage error :  -120.810904055 %\n"
     ]
    }
   ],
   "source": [
    "\n",
    "print(\"pi- phi_estimated :\",np.pi-phi_estimated)\n",
    "print(\" difference in backazimuth (diff of pi): \",np.pi-phi_estimated-phi_actual,\" percentage error : \",((np.pi-phi_estimated)/phi_actual-1)*100,\"%\"  )\n"
   ]
  },
  {
   "cell_type": "markdown",
   "metadata": {},
   "source": [
    "###  Plot the results "
   ]
  },
  {
   "cell_type": "code",
   "execution_count": 21,
   "metadata": {},
   "outputs": [],
   "source": [
    "x=np.linspace(0,2*np.pi,2000)\n",
    "y=np.zeros(shape=(2000,))\n",
    "for i in range(0,2000):\n",
    "    y[i]=sum_of_errors(-sin(x[i])/v,-cos(x[i])/v,n_rec,rec_pos_mes,t_diff)"
   ]
  },
  {
   "cell_type": "code",
   "execution_count": 22,
   "metadata": {},
   "outputs": [
    {
     "data": {
      "text/plain": [
       "Text(0, 0.5, 'error in arbitary units')"
      ]
     },
     "execution_count": 22,
     "metadata": {},
     "output_type": "execute_result"
    },
    {
     "data": {
      "image/png": "[encoded data removed]",
      "text/plain": [
       "<Figure size 432x288 with 1 Axes>"
      ]
     },
     "metadata": {
      "needs_background": "light"
     },
     "output_type": "display_data"
    }
   ],
   "source": [
    "plt.plot(x,y)\n",
    "plt.xlabel(\"backazimuthal angle in radian\")\n",
    "plt.ylabel(\"error in arbitary units\")\n"
   ]
  },
  {
   "cell_type": "code",
   "execution_count": null,
   "metadata": {},
   "outputs": [],
   "source": []
  },
  {
   "cell_type": "code",
   "execution_count": 23,
   "metadata": {
    "scrolled": false
   },
   "outputs": [
    {
     "data": {
      "image/png": "[encoded data removed]",
      "text/plain": [
       "<Figure size 576x432 with 1 Axes>"
      ]
     },
     "metadata": {
      "needs_background": "light"
     },
     "output_type": "display_data"
    }
   ],
   "source": [
    "x,y =np.mgrid[-500:500:1000j,-500:500:1000j]  # a 2D grid for defining domain and evaluation of source position\n",
    "\n",
    "\n",
    "plt.figure(figsize=(8,6))\n",
    "plt.plot(rec_pos_mes[:,0],rec_pos_mes[:,1],'b.',label='Receivers')\n",
    "plt.plot(src[0],src[1],'r^',label='Source position Actual')\n",
    "d=v*t_Rec_real[0]\n",
    "plt.plot(d*np.sin(phi_estimated),d*np.cos(phi_estimated),'g^',label='Source position estimated')\n",
    "\n",
    "#plt.plot(d*np.sin(np.pi-phi_estimated),d*np.cos(np.pi-phi_estimated),'g^',label='Source position estimated')\n",
    "#plt.plot(d*np.sin(np.pi/2-phi_estimated),d*np.cos(np.pi/2-phi_estimated),'g^',label='Source position estimated')\n",
    "plt.plot()\n",
    "plt.legend()\n",
    "#plt.xlim(-500,500)\n",
    "#plt.ylim(-500,500)\n",
    "plt.xlabel('X(m)')\n",
    "plt.ylabel('Y(m)')\n",
    "plt.axis('equal')\n",
    "\n",
    "plt.title('estimated source position')\n",
    "plt.show()\n",
    "\n",
    "     "
   ]
  },
  {
   "cell_type": "markdown",
   "metadata": {},
   "source": [
    "Key Limitations:"
   ]
  },
  {
   "cell_type": "markdown",
   "metadata": {},
   "source": [
    "Cause of the error is because the estimated position assumes that first receiver (at index 0) is at origin "
   ]
  },
  {
   "cell_type": "markdown",
   "metadata": {},
   "source": [
    "Configurations tried so far:\n",
    "linear,\n",
    "gaussian(negative results),\n",
    "circular"
   ]
  },
  {
   "cell_type": "markdown",
   "metadata": {},
   "source": [
    "Noise introduced in position has standard deviation 2.5m; and that in time has standard deviation 5/v"
   ]
  },
  {
   "cell_type": "markdown",
   "metadata": {},
   "source": [
    "Distance of source from receivers should be more than 10 times the wavelength"
   ]
  },
  {
   "cell_type": "markdown",
   "metadata": {},
   "source": [
    "the error in backazimuth is magnified on multiplying by distance as is observed "
   ]
  },
  {
   "cell_type": "code",
   "execution_count": 24,
   "metadata": {},
   "outputs": [],
   "source": [
    "def src_Loc(rec_pos, t_rec,c,src_pos):\n",
    "    '''The function returns the difference between the position of source(guessed) and receiver location as calculated from \n",
    "    measurement of time difference of arrival with the distance calculated from position of source and receiver. We aim to \n",
    "    minimise this quantity\n",
    "\n",
    "    rec_pos = a matrix with position of receivers stored in the following format [[x_1, y_1],[x_2,y_2]]\n",
    "    t_rec  = the time of arrival as measured from data\n",
    "    source_loc = the guessed source location for which the function is being evaluated\n",
    "    \n",
    "    '''\n",
    "    \n",
    "    n_rec = np.shape(rec_pos)[0]\n",
    "    t_rec_rel1 = np.zeros(shape=(n_rec-1,1))   # time difference calculated wrt the value in first receiver\n",
    "    \n",
    "    t_rec_rel1[:] = t_rec[1:] -t_rec[0]     \n",
    "    \n",
    "    rec_pos_src_rel = np.zeros(shape =(n_rec-1,2)) # Calculating the relative position of recivers wrt the source\n",
    "    \n",
    "    rec_pos_src_rel[:] = rec_pos[1:] -src_pos*np.ones_like(rec_pos_src_rel)  # relative position of receiver 1 wrt the source\n",
    "    \n",
    "    rec1_pos_src_rel = rec_pos[0] -src_pos # the position of receiver one wrt the source\n",
    "    \n",
    "    rec_dist_src_rel = np.zeros(shape=(n_rec-1,1))\n",
    "    \n",
    "    rec1_dist_src_rel = np.sqrt(rec1_pos_src_rel[0]**2 + rec1_pos_src_rel[1]**2)\n",
    "    \n",
    "    rec_dist_src_rel[:] = np.sqrt(rec_pos_src_rel[:,0]**2 + rec_pos_src_rel[:,1]**2).reshape(n_rec-1,1)\n",
    "    \n",
    "    delta_r = t_rec_rel1*c\n",
    "    \n",
    "    error = np.zeros(shape =(n_rec-1,1))   # defing the error to be minimized\n",
    "    error[:] = delta_r[:] - (rec_dist_src_rel[:]-rec1_dist_src_rel)   \n",
    "    \n",
    "    error_to_min =np.dot(error.T,error) # Getting a single value instead of an array\n",
    "    \n",
    "    return error_to_min"
   ]
  },
  {
   "cell_type": "code",
   "execution_count": 25,
   "metadata": {},
   "outputs": [],
   "source": [
    "def error_in_tdoa(src_pos,time,rec_pos,n_rec):\n",
    "    '''rec_pos=((x1,y1),)\n",
    "      src_pos=(x,y)\n",
    "    time=(t1,t2,...)'''\n",
    "    time_estimated=np.zeros(shape=(n_rec,))\n",
    "    for i in range(0,n_rec):\n",
    "        r=np.sum(np.square(np.subtract(rec_pos[i],src_pos)))\n",
    "        \n",
    "        time_estimated[i]=(sqrt(r))/v\n",
    "    err=np.sum(np.square(np.subtract(time_estimated,time)))\n",
    "    return err"
   ]
  },
  {
   "cell_type": "code",
   "execution_count": null,
   "metadata": {},
   "outputs": [],
   "source": [
    "\n",
    "\n"
   ]
  },
  {
   "cell_type": "code",
   "execution_count": 26,
   "metadata": {},
   "outputs": [
    {
     "name": "stdout",
     "output_type": "stream",
     "text": [
      "(1000,)\n",
      "(5,)\n"
     ]
    }
   ],
   "source": [
    "d=10000\n",
    "\n",
    "import pandas as pd\n",
    "iter_width=1000\n",
    "theta_iter=5\n",
    "r1=np.linspace(2*d,0,iter_width)\n",
    "theta1=np.linspace(phi_estimated-5/180*np.pi,phi_estimated+5/180*np.pi,theta_iter)\n",
    "\n",
    "r=r1.reshape(iter_width,)\n",
    "theta=theta1.reshape(theta_iter,)\n",
    "\n",
    "x=np.zeros(shape=(iter_width,theta_iter))\n",
    "y=np.full_like(x,0)\n",
    "\n",
    "print(np.shape(r))\n",
    "print(np.shape(theta))\n",
    "error=np.zeros(shape=(iter_width,theta_iter))\n",
    "\n",
    "for i in range(0,iter_width):\n",
    "    for j in range(0,theta_iter):\n",
    "        error[i,j]=error_in_tdoa((r[i]*np.sin(theta[j]),r[i]*np.cos(theta[j])),t_Rec_real,rec_pos_mes,n_rec)\n",
    "        x[i,j],y[i,j]=r[i]*np.sin(theta[j]),r[i]*np.cos(theta[j])\n",
    "\n",
    "x_line=x.flatten()\n",
    "y_line=y.flatten()\n",
    "error_1D=error.flatten()\n",
    "df = pd.DataFrame({'x':x_line,\n",
    "                   'y':y_line,\n",
    "                   'z':error_1D})\n",
    "\n"
   ]
  },
  {
   "cell_type": "code",
   "execution_count": 27,
   "metadata": {
    "scrolled": false
   },
   "outputs": [
    {
     "name": "stdout",
     "output_type": "stream",
     "text": [
      "actual source position :  -10000 -10000\n",
      "estimated position:  -0.0 -0.0\n",
      "percentage error in localization:  100.0 %\n"
     ]
    },
    {
     "data": {
      "image/png": "[encoded data removed]",
      "text/plain": [
       "<Figure size 432x288 with 1 Axes>"
      ]
     },
     "metadata": {
      "needs_background": "light"
     },
     "output_type": "display_data"
    }
   ],
   "source": [
    "\n",
    "error_1D=error.flatten()\n",
    "plt.scatter(df.x, df.y, s=200, c=df.z, cmap='gray')\n",
    "plt.plot(src[0],src[1],'r^',label='actual source position')\n",
    "estimate_index=list(error_1D).index(np.min(error_1D))\n",
    "plt.plot(x_line[estimate_index],y_line[estimate_index],'g^',label='estimated source position')\n",
    "#if(np.min(error[estimate_index+1:])==(error[estimate_index])):\n",
    "est2_index=list(error_1D).index(np.min(error_1D[estimate_index+1:]))\n",
    "plt.plot(x_line[est2_index],y_line[est2_index],'o',label='second estimated source position')\n",
    "plt.legend()\n",
    "#print(error_1D[est2_index],error_1D[estimate_index])\n",
    "#print(\"estimated position: \",x_line[est2_index] ,y_line[est2_index] )\n",
    "#plt.plot(x[np.where(error==np.min(error))],y[np.where(error==np.min(error))],'o')\n",
    "print(\"actual source position : \",src[0], src[1])\n",
    "print(\"estimated position: \",x_line[estimate_index] ,y_line[estimate_index] )\n",
    "print(\"percentage error in localization: \", float(sqrt((x_line[estimate_index]-src[0])**2+(y_line[estimate_index]-src[1])**2)/sqrt(src[0]**2+src[1]**2)*100), \"%\")"
   ]
  },
  {
   "cell_type": "code",
   "execution_count": 28,
   "metadata": {},
   "outputs": [
    {
     "ename": "TypeError",
     "evalue": "Cannot interpret '7526.58387717328' as a data type",
     "output_type": "error",
     "traceback": [
      "\u001b[1;31m---------------------------------------------------------------------------\u001b[0m",
      "\u001b[1;31mTypeError\u001b[0m                                 Traceback (most recent call last)",
      "\u001b[1;32m~\\AppData\\Local\\Temp/ipykernel_20340/1088978910.py\u001b[0m in \u001b[0;36m<module>\u001b[1;34m\u001b[0m\n\u001b[0;32m      2\u001b[0m \u001b[0mrec_pos_modified\u001b[0m \u001b[1;33m=\u001b[0m \u001b[0mnp\u001b[0m\u001b[1;33m.\u001b[0m\u001b[0mzeros_like\u001b[0m\u001b[1;33m(\u001b[0m\u001b[0mrec_pos_act\u001b[0m\u001b[1;33m)\u001b[0m\u001b[1;33m\u001b[0m\u001b[1;33m\u001b[0m\u001b[0m\n\u001b[0;32m      3\u001b[0m \u001b[0mrec_pos_modified\u001b[0m\u001b[1;33m[\u001b[0m\u001b[1;33m:\u001b[0m\u001b[1;33m]\u001b[0m \u001b[1;33m=\u001b[0m \u001b[0mrec_pos_act\u001b[0m\u001b[1;33m[\u001b[0m\u001b[1;33m:\u001b[0m\u001b[1;33m]\u001b[0m  \u001b[1;31m# Can modify later if required\u001b[0m\u001b[1;33m\u001b[0m\u001b[1;33m\u001b[0m\u001b[0m\n\u001b[1;32m----> 4\u001b[1;33m \u001b[0mx\u001b[0m\u001b[1;33m=\u001b[0m\u001b[0mnp\u001b[0m\u001b[1;33m.\u001b[0m\u001b[0mlinspace\u001b[0m\u001b[1;33m(\u001b[0m\u001b[1;33m-\u001b[0m\u001b[1;36m1.1\u001b[0m\u001b[1;33m*\u001b[0m\u001b[0md\u001b[0m\u001b[1;33m*\u001b[0m\u001b[0mcos\u001b[0m\u001b[1;33m(\u001b[0m\u001b[0mphi_estimated\u001b[0m\u001b[1;33m)\u001b[0m\u001b[1;33m,\u001b[0m\u001b[1;36m1.1\u001b[0m\u001b[1;33m*\u001b[0m\u001b[0md\u001b[0m\u001b[1;33m*\u001b[0m\u001b[0mcos\u001b[0m\u001b[1;33m(\u001b[0m\u001b[0mphi_estimated\u001b[0m\u001b[1;33m)\u001b[0m\u001b[1;33m,\u001b[0m\u001b[1;36m1000\u001b[0m\u001b[1;33m)\u001b[0m\u001b[1;33m\u001b[0m\u001b[1;33m\u001b[0m\u001b[0m\n\u001b[0m\u001b[0;32m      5\u001b[0m \u001b[0my\u001b[0m\u001b[1;33m=\u001b[0m\u001b[0mnp\u001b[0m\u001b[1;33m.\u001b[0m\u001b[0mlinspace\u001b[0m\u001b[1;33m(\u001b[0m\u001b[1;33m-\u001b[0m\u001b[1;36m1.1\u001b[0m\u001b[1;33m*\u001b[0m\u001b[0md\u001b[0m\u001b[1;33m*\u001b[0m\u001b[0msin\u001b[0m\u001b[1;33m(\u001b[0m\u001b[0mphi_estimated\u001b[0m\u001b[1;33m)\u001b[0m\u001b[1;33m,\u001b[0m\u001b[1;36m1.1\u001b[0m\u001b[1;33m*\u001b[0m\u001b[0md\u001b[0m\u001b[1;33m*\u001b[0m\u001b[0msin\u001b[0m\u001b[1;33m(\u001b[0m\u001b[0mphi_estimated\u001b[0m\u001b[1;33m)\u001b[0m\u001b[1;33m,\u001b[0m\u001b[1;36m1000\u001b[0m\u001b[1;33m)\u001b[0m\u001b[1;33m\u001b[0m\u001b[1;33m\u001b[0m\u001b[0m\n\u001b[0;32m      6\u001b[0m \u001b[1;33m\u001b[0m\u001b[0m\n",
      "\u001b[1;32m<__array_function__ internals>\u001b[0m in \u001b[0;36mlinspace\u001b[1;34m(*args, **kwargs)\u001b[0m\n",
      "\u001b[1;32m~\\miniconda3\\lib\\site-packages\\numpy\\core\\function_base.py\u001b[0m in \u001b[0;36mlinspace\u001b[1;34m(start, stop, num, endpoint, retstep, dtype, axis)\u001b[0m\n\u001b[0;32m    128\u001b[0m     \u001b[0mstop\u001b[0m  \u001b[1;33m=\u001b[0m \u001b[0masanyarray\u001b[0m\u001b[1;33m(\u001b[0m\u001b[0mstop\u001b[0m\u001b[1;33m)\u001b[0m  \u001b[1;33m*\u001b[0m \u001b[1;36m1.0\u001b[0m\u001b[1;33m\u001b[0m\u001b[1;33m\u001b[0m\u001b[0m\n\u001b[0;32m    129\u001b[0m \u001b[1;33m\u001b[0m\u001b[0m\n\u001b[1;32m--> 130\u001b[1;33m     \u001b[0mdt\u001b[0m \u001b[1;33m=\u001b[0m \u001b[0mresult_type\u001b[0m\u001b[1;33m(\u001b[0m\u001b[0mstart\u001b[0m\u001b[1;33m,\u001b[0m \u001b[0mstop\u001b[0m\u001b[1;33m,\u001b[0m \u001b[0mfloat\u001b[0m\u001b[1;33m(\u001b[0m\u001b[0mnum\u001b[0m\u001b[1;33m)\u001b[0m\u001b[1;33m)\u001b[0m\u001b[1;33m\u001b[0m\u001b[1;33m\u001b[0m\u001b[0m\n\u001b[0m\u001b[0;32m    131\u001b[0m     \u001b[1;32mif\u001b[0m \u001b[0mdtype\u001b[0m \u001b[1;32mis\u001b[0m \u001b[1;32mNone\u001b[0m\u001b[1;33m:\u001b[0m\u001b[1;33m\u001b[0m\u001b[1;33m\u001b[0m\u001b[0m\n\u001b[0;32m    132\u001b[0m         \u001b[0mdtype\u001b[0m \u001b[1;33m=\u001b[0m \u001b[0mdt\u001b[0m\u001b[1;33m\u001b[0m\u001b[1;33m\u001b[0m\u001b[0m\n",
      "\u001b[1;32m<__array_function__ internals>\u001b[0m in \u001b[0;36mresult_type\u001b[1;34m(*args, **kwargs)\u001b[0m\n",
      "\u001b[1;31mTypeError\u001b[0m: Cannot interpret '7526.58387717328' as a data type"
     ]
    }
   ],
   "source": [
    "\n",
    "error = np.zeros(shape=(1000,))  # To store the values at various points\n",
    "rec_pos_modified = np.zeros_like(rec_pos_act)\n",
    "rec_pos_modified[:] = rec_pos_act[:]  # Can modify later if required\n",
    "x=np.linspace(-1.1*d*cos(phi_estimated),1.1*d*cos(phi_estimated),1000)\n",
    "y=np.linspace(-1.1*d*sin(phi_estimated),1.1*d*sin(phi_estimated),1000)\n",
    "\n",
    "for j in range(1000):\n",
    "    error[i,j] = src_Loc_recpos_error(rec_pos_mes=rec_pos_mes,t_rec=t_Rec_real,c=v,src_pos=(x[j],y[j]),rec_pos_act=rec_pos_modified)\n",
    "plt.figure(figsize=(8,6))\n",
    "plt.contourf(x,y,error,levels=50)\n",
    "plt.plot(rec_pos_mes[:,0],rec_pos_mes[:,1],'b.',label='Receivers')\n",
    "plt.plot(src[0],src[1],'r^',label='Source position Actual')\n",
    "plt.plot(x[np.where(error == np.min(error))],y[np.where(error == np.min(error))],'g^',label='Source position estimated')\n",
    "plt.plot()\n",
    "plt.legend()\n",
    "plt.xlim(-d,d)\n",
    "plt.ylim(-d,d)\n",
    "plt.xlabel('X(m)')\n",
    "plt.ylabel('Y(m)')\n",
    "plt.axis('equal')\n",
    "plt.colorbar()\n",
    "plt.title('Error contour for receivers with error in both time of arrival and known position')\n"
   ]
  },
  {
   "cell_type": "code",
   "execution_count": null,
   "metadata": {},
   "outputs": [],
   "source": [
    "x, y = np.meshgrid(np.linspace(0, 1, 2), np.linspace(0, 1, 2))\n",
    "print(x,y)"
   ]
  },
  {
   "cell_type": "code",
   "execution_count": null,
   "metadata": {},
   "outputs": [],
   "source": [
    "np.where([[True,False]],[[10,8],[13,90]],[[1,2],[3,4]])\n"
   ]
  },
  {
   "cell_type": "code",
   "execution_count": null,
   "metadata": {},
   "outputs": [],
   "source": [
    "q=[1,0,1,2,4,0]\n",
    "q.index(min(q))"
   ]
  },
  {
   "cell_type": "code",
   "execution_count": null,
   "metadata": {},
   "outputs": [],
   "source": []
  },
  {
   "cell_type": "code",
   "execution_count": null,
   "metadata": {},
   "outputs": [],
   "source": []
  },
  {
   "cell_type": "code",
   "execution_count": null,
   "metadata": {},
   "outputs": [],
   "source": []
  },
  {
   "cell_type": "code",
   "execution_count": null,
   "metadata": {},
   "outputs": [],
   "source": []
  },
  {
   "cell_type": "code",
   "execution_count": null,
   "metadata": {},
   "outputs": [],
   "source": []
  },
  {
   "cell_type": "code",
   "execution_count": null,
   "metadata": {},
   "outputs": [],
   "source": []
  }
 ],
 "metadata": {
  "kernelspec": {
   "display_name": "Python 3 (ipykernel)",
   "language": "python",
   "name": "python3"
  },
  "language_info": {
   "codemirror_mode": {
    "name": "ipython",
    "version": 3
   },
   "file_extension": ".py",
   "mimetype": "text/x-python",
   "name": "python",
   "nbconvert_exporter": "python",
   "pygments_lexer": "ipython3",
   "version": "3.9.5"
  }
 },
 "nbformat": 4,
 "nbformat_minor": 2
}
