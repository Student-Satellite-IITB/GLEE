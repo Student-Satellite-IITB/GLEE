{
 "cells": [
  {
   "cell_type": "markdown",
   "metadata": {},
   "source": [
    "# Plane Wave Fitting for Velocity Estimation\n",
    "December,2021\n",
    "Author: Reet Mhaske"
   ]
  },
  {
   "cell_type": "code",
   "execution_count": 1,
   "metadata": {},
   "outputs": [],
   "source": [
    "# importing the requiered libraries\n",
    "\n",
    "import numpy as np\n",
    "import matplotlib.pyplot as plt\n",
    "from sympy import *\n",
    "import random\n"
   ]
  },
  {
   "cell_type": "markdown",
   "metadata": {},
   "source": [
    "##### initialize no. of receivers, apparent horizontal velocity of sound, max frequency of source "
   ]
  },
  {
   "cell_type": "code",
   "execution_count": 2,
   "metadata": {},
   "outputs": [],
   "source": [
    "\n",
    "n_grp=10+2 # no. of receivers in a subset and not the number of subset\n",
    "no_of_subsets=2\n",
    "n_rec=n_grp*no_of_subsets #  ;number of receivers\n",
    "\n",
    "rec_pos_act= np.zeros(shape =(n_rec,2))  # Assigning the actual receiver position\n",
    "\n",
    "v = 2000 # m/s ### velocity of propagation (in sand)\n",
    "freq=10 #Hz, max recorded frequency\n",
    "lamda=v/freq# wavelength\n",
    "d=3000#m,  l=2000m  > 10 times lamda "
   ]
  },
  {
   "cell_type": "markdown",
   "metadata": {},
   "source": [
    "##### initialize position of source and  receivers "
   ]
  },
  {
   "cell_type": "code",
   "execution_count": 3,
   "metadata": {},
   "outputs": [],
   "source": [
    "#setting source configuration randomly\n",
    "np.random.seed(0)\n",
    "a=random.randint(int(d-d/10),d*5) # source distance must be more than or equal to d , limits set here are arbitary within this acceptance\n",
    "b=random.randint(int(d-d/10),d*5)\n",
    "src=(b,a)\n",
    "random.randrange(d-d/10,d*5)\n",
    "\n",
    "\n",
    "#setting different receiver configurations\n",
    "\n",
    "#uncomment following line for random distribution\n",
    "rec_pos_act=np.random.normal(0,100,size=(n_rec,2))\n",
    "\n",
    "\n",
    "#uncomment following line for linear distribution\n",
    "for i in range(0,n_rec):\n",
    "    rec_pos_act[i,1]=0\n",
    "    rec_pos_act[i,0]=(i-(n_rec-1)/2)*5 #first receievr at (-50,0) last at (50,0), all in line, distance 5 between them \n",
    "\n",
    "#uncomment following line for circular distribution \n",
    "\n",
    "for i in range(0,int(n_rec/2)):\n",
    "    rec_pos_act[i,0]=100*cos((2*i)*2*np.pi/(n_rec))\n",
    "    rec_pos_act[int(i+n_rec/2),0]=100*cos((2*i+1)*2*np.pi/(n_rec))\n",
    "    rec_pos_act[i,1]=100*sin((2*i)*2*np.pi/(n_rec))\n",
    "    rec_pos_act[int(i+n_rec/2),1]=100*sin((2*i+1)*2*np.pi/(n_rec))\n",
    "rec_pos_act[0]=(0,0)\n",
    "rec_pos_act[int(n_rec/2)]=(0,0)\n",
    "\n",
    "\n"
   ]
  },
  {
   "cell_type": "markdown",
   "metadata": {},
   "source": [
    "initialize time recordings by time of arrival, introduce noise in time and position"
   ]
  },
  {
   "cell_type": "code",
   "execution_count": 4,
   "metadata": {},
   "outputs": [],
   "source": [
    "\n",
    "\n",
    "t_rec_ideal = np.zeros(shape =(n_rec,))  # time recorded in each receiver; form: (index of receiver,time) \n",
    "\n",
    "\n",
    "t_noise=np.random.normal(0,1/(v),size=(n_rec,))\n",
    "\n",
    "#introduce noise in position\n",
    "rec_pos_noise=np.random.normal(0,2.5,size=(n_rec,2))\n",
    "\n",
    "rec_pos_mes= rec_pos_act + rec_pos_noise  # rec_pos_mes stores[(x1,y1),(x2,y2),..] \n",
    "\n",
    "\n",
    "\n",
    "#initialising time recordings\n",
    "\n",
    "for i in range (0,n_rec):\n",
    "    t_rec_ideal[0:n_rec] = np.sqrt((rec_pos_mes[0:n_rec,0]-src[0])**2 + (rec_pos_mes[0:n_rec,1]-src[1])**2)/v\n",
    "\n",
    "\n",
    "\n",
    "### t_Rec_real has form [[rec1 recording], [rec2 recording]]\n",
    "\n",
    "# introduce noise in time\n",
    "t_Rec_real=t_rec_ideal + t_noise\n",
    "\n",
    "\n",
    "# time difference between time recordings wrt receiver 1st rec, \n",
    "#in the form : time recorded by receiver at ith position - time recorded by 1st receiver \n",
    "t_diff=np.zeros(shape=(n_rec,))\n",
    "for i in range(0,n_rec):\n",
    "    t_diff[i]=t_rec_ideal[i]-t_rec_ideal[0]\n",
    "    \n",
    "   \n",
    "    \n",
    "    \n",
    "    "
   ]
  },
  {
   "cell_type": "markdown",
   "metadata": {},
   "source": [
    "We iterate over all values of the backazimuth $\\phi$ such that it minimizes the error expression for \n",
    "N receivers:\n",
    "$\\hat{s} = \\min_{s}\\sum_{i=1}^{N} (\\tau_{i} - r_{i}.s)^2 $\n",
    "where i is the index of the receivers\n",
    "$\\tau_{i}$ is the time difference for $i^{th}$ receiver\n",
    "where the slowness vector $\\vec{s}$ is defined as:\n",
    "$\\vec{s} = (-\\frac{\\sin{\\phi}}{v}, -\\frac{\\cos{\\phi}}{v})$"
   ]
  },
  {
   "cell_type": "code",
   "execution_count": 5,
   "metadata": {},
   "outputs": [],
   "source": [
    "#function to return the error expression for a particular s, v and given configuration of receivers : \n",
    "\n",
    "def sum_of_errors(s_x,s_y,n_rec,rec_loc,time_diff):\n",
    "    ''' returns the error expression for particular  slowness vector s , apparent horizontal velocity v, receiver positions, and time differences\\\n",
    "        input s in form of s_x and s_y ( x and y coordinate ) \\\n",
    "        input n_rec: number of receivers \\\n",
    "        input rec_loc: 2-D array for receiver location , in form [(x_1,y_1),...(x_n_rec,y_n_rec)]\\\n",
    "        input time_diff: 1-D array for time difference [(t_i)]'''  \n",
    "    soe=0 # sume of errors\n",
    "    # find sum over all receivers\n",
    "    for i in range (0,n_rec):\n",
    "        soe+=(time_diff[i]-s_x*rec_loc[i,0]-s_y*rec_loc[i,1])**2\n",
    "    return soe    "
   ]
  },
  {
   "cell_type": "code",
   "execution_count": 6,
   "metadata": {},
   "outputs": [],
   "source": [
    "#function to estimate slowness by iterating over backazimuth\n",
    "\n",
    "def estimate_backazimuth(v,n_rec,rec_loc,time_diff):\n",
    "    ''' returns estimated backazimuth and final error for the estimated backazimuth\\\n",
    "    input v: apparent horizontal velocity\\\n",
    "    inputn_rec: number of receivers\\\n",
    "    input rec_loc: 2-D array for receiver locations in form [(x_1,y_2)]\\\n",
    "    input time_diff: 1-D array for time difference [(t_i)]'''\n",
    "    phi_estimated=0\n",
    "    error=10000\n",
    "    phi_range = np.linspace(0,2*np.pi,200000)\n",
    "    for phi in phi_range :\n",
    "            soe=sum_of_errors(-np.sin(phi)/v,-np.cos(phi)/v,n_rec,rec_loc,time_diff)  \n",
    "            #print(s_x_temp,s_y_temp)\n",
    "            #print(soe)\n",
    "            #print(s_x_temp,s_y_temp\n",
    "            if ( error>soe):\n",
    "                error =soe\n",
    "                phi_estimated=phi\n",
    "    if (sum_of_errors(-np.sin(np.pi-phi_estimated)/v,-np.cos(np.pi-phi_estimated)/v,n_rec,rec_loc,time_diff)<error) :\n",
    "        error=sum_of_errors(-np.sin(np.pi-phi_estimated)/v,-np.cos(np.pi-phi_estimated)/v,n_rec,rec_loc,time_diff)\n",
    "        phi_estimated=np.pi-phi_estimated\n",
    "    return (phi_estimated,error)  "
   ]
  },
  {
   "cell_type": "code",
   "execution_count": null,
   "metadata": {},
   "outputs": [],
   "source": [
    "\n",
    "    "
   ]
  },
  {
   "cell_type": "code",
   "execution_count": 7,
   "metadata": {},
   "outputs": [
    {
     "name": "stdout",
     "output_type": "stream",
     "text": [
      "actual angle:  0.9165674110945785\n",
      "phi_estimated : 0.9172239772619623 \n",
      "final_error:  2.1162552937902007e-06\n",
      "pi- phi_estimated : 2.2243686763278308\n",
      " difference in backazimuth (diff of pi):  1.3078012652332522  percentage error :  142.68467866116433 %\n",
      "difference in backazimuth:  0.0006565661673837431 \n",
      "percentage error in backazimuth:  0.07163315643086143 %\n",
      "diff in location:  8.320873020658386\n",
      "diff in location (diff of pi):  14968.375094930936\n",
      "percentage error in distance:  0.06762349006758372 %\n",
      "(9767.330480453267, 7480.37472441309)\n",
      "(9764, 7488)\n"
     ]
    }
   ],
   "source": [
    "\n",
    "phi_actual=np.arctan2(src[0],src[1]) #y first for arctan2,rotate axis (N is x now), so input x first\n",
    "if (phi_actual<0):\n",
    "    phi_actual+=2*np.pi\n",
    "d=v*t_Rec_real[0]              \n",
    "print(\"actual angle: \", phi_actual)\n",
    "phi_estimated,final_error=estimate_backazimuth(v,n_rec,rec_pos_mes,t_diff)\n",
    "print(\"phi_estimated :\",phi_estimated,\"\\nfinal_error: \", final_error)\n",
    "\n",
    "print(\"pi- phi_estimated :\",np.pi-phi_estimated)\n",
    "print(\" difference in backazimuth (diff of pi): \",np.pi-phi_estimated-phi_actual,\" percentage error : \",((np.pi-phi_estimated)/phi_actual-1)*100,\"%\"  )\n",
    "\n",
    "print(\"difference in backazimuth: \",phi_estimated-phi_actual,\"\\npercentage error in backazimuth: \",((phi_estimated)/phi_actual-1)*100,\"%\"  )\n",
    "print(\"diff in location: \" ,  np.sqrt((src[0]-d*np.sin(phi_estimated))**2+(src[1]-d*np.cos(phi_estimated))**2))\n",
    "print(\"diff in location (diff of pi): \" ,  np.sqrt((src[0]-d*np.sin(np.pi-phi_estimated))**2+(src[1]-d*np.cos(np.pi-phi_estimated))**2))\n",
    "print(\"percentage error in distance: \",(np.sqrt((src[0]-d*np.sin(phi_estimated))**2+\\\n",
    "                                               (src[1]-d*np.cos(phi_estimated))**2)/ np.sqrt(src[0]**2+src[1]**2) )*100,\"%\")\n",
    "\n",
    "src_estimated_by_all=d*np.sin(phi_estimated),d*np.cos(phi_estimated)\n",
    "print(src_estimated_by_all)\n",
    "print(src)"
   ]
  },
  {
   "cell_type": "code",
   "execution_count": null,
   "metadata": {},
   "outputs": [],
   "source": []
  },
  {
   "cell_type": "code",
   "execution_count": 9,
   "metadata": {},
   "outputs": [],
   "source": [
    "x=np.linspace(0,2*np.pi,2000)\n",
    "y=np.zeros(shape=(2000,))\n",
    "for i in range(0,2000):\n",
    "    y[i]=sum_of_errors(-sin(x[i])/v,-cos(x[i])/v,n_rec,rec_pos_mes,t_diff)"
   ]
  },
  {
   "cell_type": "code",
   "execution_count": 10,
   "metadata": {},
   "outputs": [
    {
     "data": {
      "text/plain": [
       "Text(0.5, 1.0, 'error vs backazimuth')"
      ]
     },
     "execution_count": 10,
     "metadata": {},
     "output_type": "execute_result"
    },
    {
     "data": {
      "image/png": "[encoded data removed]",
      "text/plain": [
       "<Figure size 432x288 with 1 Axes>"
      ]
     },
     "metadata": {
      "needs_background": "light"
     },
     "output_type": "display_data"
    }
   ],
   "source": [
    "plt.plot(x,y)\n",
    "plt.xlabel(\"backazimuthal angle in radian\")\n",
    "plt.ylabel(\"error in arbitary units\")\n",
    "plt.title(\"error vs backazimuth\")"
   ]
  },
  {
   "cell_type": "code",
   "execution_count": 11,
   "metadata": {
    "scrolled": false
   },
   "outputs": [
    {
     "data": {
      "image/png": "[encoded data removed]",
      "text/plain": [
       "<Figure size 576x432 with 1 Axes>"
      ]
     },
     "metadata": {
      "needs_background": "light"
     },
     "output_type": "display_data"
    }
   ],
   "source": [
    "x,y =np.mgrid[-500:500:1000j,-500:500:1000j]  # a 2D grid for defining domain and evaluation of source position\n",
    "\n",
    "\n",
    "\n",
    "plt.figure(figsize=(8,6))\n",
    "plt.plot(rec_pos_mes[:,0],rec_pos_mes[:,1],'b.',label='Receivers')\n",
    "plt.plot(src[0],src[1],'r^',label='Source position Actual')\n",
    "d=v*t_Rec_real[0]\n",
    "plt.plot(d*np.sin(phi_estimated),d*np.cos(phi_estimated),'g^',label='Source position estimated')\n",
    "\n",
    "\n",
    "plt.plot()\n",
    "plt.legend()\n",
    "#plt.xlim(-500,500)\n",
    "#plt.ylim(-500,500)\n",
    "plt.xlabel('X(m)')\n",
    "plt.ylabel('Y(m)')\n",
    "plt.axis('equal')\n",
    "\n",
    "plt.title('estimated and actual source positions')\n",
    "plt.show()\n",
    "\n",
    "     "
   ]
  },
  {
   "cell_type": "markdown",
   "metadata": {},
   "source": [
    "Cause of the error is because the estimated position assumes that first receiver (at index 0) is at origin ,\\\\\n",
    "whereas this is not the case for circular configuration"
   ]
  },
  {
   "cell_type": "markdown",
   "metadata": {},
   "source": [
    "Configurations tried so far:\n",
    "linear,\n",
    "gaussian(negative results),\n",
    "circular"
   ]
  },
  {
   "cell_type": "markdown",
   "metadata": {},
   "source": [
    "Noise introduced in position has standard deviation 5m; and that in time has standard deviation 5/v"
   ]
  },
  {
   "cell_type": "markdown",
   "metadata": {},
   "source": [
    "## Estimating Velocity"
   ]
  },
  {
   "cell_type": "code",
   "execution_count": 15,
   "metadata": {},
   "outputs": [],
   "source": [
    "def error_in_concurrency(v,n_rec,no_of_groups,n_in_this_grp,rec_loc,time,time_diff):\n",
    "    '''For the input velocity v, no. of subgroups , no. of receivers in each subgroup, receiver locations, time recorings,/\n",
    "    time difference, this function runs the plane wave fitting algorithm for each subset , generates /\n",
    "    no_of_groups+1 estimates for receiver positions (the last one considering all receivers)/\n",
    "    then finds the perimeter of the figure formed by al these points as an estimate of the error in concurrency/\n",
    "    Returns ths error along with an array of the estimated receiver positions'''\n",
    "    \n",
    "    \n",
    "    \n",
    "    estimates_of_src=np.zeros(shape=(no_of_groups+1,2))\n",
    "    #iteration for group\n",
    "    for i in range(0,n_rec,n_in_this_grp):\n",
    "        #print(i,i+n_in_this_grp)\n",
    "        new_rec_loc=np.zeros(shape=(n_in_this_grp,2))\n",
    "        for k in range(0,n_in_this_grp):\n",
    "            new_rec_loc[k][0]=rec_loc[k+i][0]#-rec_loc[i][0]\n",
    "            new_rec_loc[k][1]=rec_loc[k+i][1]#-rec_loc[i][1]\n",
    "        phi,error=estimate_backazimuth(v,n_in_this_grp,new_rec_loc,time_diff[i:i+n_in_this_grp])\n",
    "      \n",
    "        d_i=v*time[i]\n",
    "        #print(d_i)\n",
    "        #print(new_rec_loc)\n",
    "        #print(\"phi: \", phi)\n",
    "        #print(\"d_i*np.sin(phi): \",d_i*np.sin(phi),\"d_i*np.cos(phi): \",d_i*np.cos(phi))\n",
    "        #print(\"rec_loc[i][0]+d_i*np.sin(phi): \",rec_loc[i][0]+d_i*np.sin(phi),\"rec_loc[i][1]+d_i*np.cos(phi): \",rec_loc[i][1]+d_i*np.cos(phi))\n",
    "        estimates_of_src[int(i/n_in_this_grp)]=(rec_loc[i][0]+d_i*np.sin(phi),rec_loc[i][1]+d_i*np.cos(phi))\n",
    "        error_in_conc=0\n",
    "     #consider all receivers as one subgroup   \n",
    "    phi_all,err= estimate_backazimuth(v,n_in_this_grp,new_rec_loc,time_diff)   \n",
    "    d=v*time[0]\n",
    "    estimates_of_src[-1]=(rec_loc[0][0]+d*np.sin(phi_all),rec_loc[0][1]+d_i*np.cos(phi_all))    \n",
    "    for j in range(0,no_of_groups+1):   \n",
    "            error_in_conc+=np.sqrt((estimates_of_src[int(j)%int(no_of_groups)][0]-estimates_of_src[int(j+1)%int(no_of_groups)][0])**2\\\n",
    "    \n",
    "                                + (estimates_of_src[int(j)%int(no_of_groups)][1]-estimates_of_src[int(j+1)%int(no_of_groups)][1])**2)\n",
    "            \n",
    "\n",
    "    return error_in_conc ,estimates_of_src      \n",
    "    "
   ]
  },
  {
   "cell_type": "code",
   "execution_count": null,
   "metadata": {
    "scrolled": false
   },
   "outputs": [],
   "source": []
  },
  {
   "cell_type": "code",
   "execution_count": null,
   "metadata": {},
   "outputs": [],
   "source": []
  },
  {
   "cell_type": "code",
   "execution_count": 16,
   "metadata": {},
   "outputs": [],
   "source": [
    "def find_velocity(guessed_vel=1000,guessed_max=3010,guessed_min=1010,n_rec=1,no_of_groups=1,n_in_this_grp=1,rec_loc=(0,0),time=(0,0),time_diff=(0),interval=20):\n",
    "   \n",
    "    err=10000\n",
    "    velocity=0\n",
    "    v_range=np.linspace(guessed_min,guessed_max,interval)\n",
    "   # print(v_range)\n",
    "    errors_in_concurrency=np.zeros(shape=(interval,))\n",
    "    #estimated_sources=np.zeros(shape=(no_of_groups,2))\n",
    "    est=np.zeros(shape=(interval,no_of_groups+1,2))\n",
    "    for i in range(0,interval):\n",
    "        errors_in_concurrency[i],est[i]=error_in_concurrency(v_range[i],n_rec,no_of_groups,n_in_this_grp,rec_loc,time,time_diff)\n",
    "        #print(errors_in_concurrency[i])\n",
    "    plt.plot(v_range,errors_in_concurrency)\n",
    "    plt.xlabel(\"velocity in m/s\")\n",
    "    plt.ylabel(\"error in concurrency in m\")\n",
    "    plt.title(\"error in concurrency vs velocity\")\n",
    "    plt.show()\n",
    "    err=np.min(errors_in_concurrency)\n",
    "    velocity=guessed_min + (guessed_max-guessed_min)/interval* list(errors_in_concurrency).index(err)\n",
    "    \n",
    "   \n",
    "    return velocity,est[list(errors_in_concurrency).index(err)],err       "
   ]
  },
  {
   "cell_type": "code",
   "execution_count": null,
   "metadata": {},
   "outputs": [],
   "source": []
  },
  {
   "cell_type": "code",
   "execution_count": null,
   "metadata": {},
   "outputs": [],
   "source": [
    "    "
   ]
  },
  {
   "cell_type": "code",
   "execution_count": 17,
   "metadata": {},
   "outputs": [
    {
     "data": {
      "image/png": "[encoded data removed]",
      "text/plain": [
       "<Figure size 432x288 with 1 Axes>"
      ]
     },
     "metadata": {
      "needs_background": "light"
     },
     "output_type": "display_data"
    },
    {
     "name": "stdout",
     "output_type": "stream",
     "text": [
      "2010.0 [[10059.54696167  7733.04319787]\n",
      " [10061.15478065  7732.43740539]\n",
      " [ 7763.36248369 10033.65264819]]\n"
     ]
    }
   ],
   "source": [
    "vel,estimates,error=find_velocity(n_rec=n_rec,no_of_groups=no_of_subsets,n_in_this_grp=n_grp,rec_loc=rec_pos_mes,time=t_Rec_real,time_diff=t_diff)\n",
    "print(vel,estimates)\n",
    "#these errors are perimeters "
   ]
  },
  {
   "cell_type": "code",
   "execution_count": null,
   "metadata": {},
   "outputs": [],
   "source": [
    "for i in range(1,4):\n",
    "    vel,estimates,error=find_velocity(100,vel+(75/i),max(0,vel-(75/i)),n_rec=n_rec,no_of_groups=no_of_subsets,n_in_this_grp=n_grp,rec_loc=rec_pos_mes,time=t_Rec_real,time_diff=t_diff)\n",
    "    print(vel,estimates)\n",
    "#these errors are perimeters "
   ]
  },
  {
   "cell_type": "code",
   "execution_count": null,
   "metadata": {},
   "outputs": [],
   "source": [
    "print(\"actual source position\", src)\n",
    "print(\"src position estimated by all receivers: \",src_estimated_by_all)\n",
    "print(\"estimated velocity: \",vel,\" m/s\",\"\\nactual velocity: \", v,\" m/s\")\n",
    "print(\"error in concurrency: \",error)\n",
    "print(\"estimates of source position: \\n\", estimates[0],\" \\n\", estimates[1])\n",
    "print(\"percentage error in velocity: \", ((vel-v)/v)*100,\" %\")"
   ]
  },
  {
   "cell_type": "code",
   "execution_count": null,
   "metadata": {},
   "outputs": [],
   "source": []
  },
  {
   "cell_type": "code",
   "execution_count": null,
   "metadata": {},
   "outputs": [],
   "source": []
  },
  {
   "cell_type": "code",
   "execution_count": null,
   "metadata": {},
   "outputs": [],
   "source": [
    " x,y =np.mgrid[-500:500:1000j,-500:500:1000j]  # a 2D grid for defining domain and evaluation of source position\n",
    "\n",
    "\n",
    "\n",
    "plt.figure(figsize=(8,6))\n",
    "plt.plot(rec_pos_mes[:,0],rec_pos_mes[:,1],'b.',label='Receivers')\n",
    "plt.plot(src[0],src[1],'r^',label='Source position Actual')\n",
    "d=vel*t_Rec_real[n_grp]\n",
    "plt.plot(estimates[0][0],estimates[0][1],'cd',label='Source estimated by even indices')\n",
    "plt.plot(estimates[1][0],estimates[1][1],'m*',label='Source estimated by odd indices')\n",
    "\n",
    "plt.plot(src_estimated_by_all[0],src_estimated_by_all[1],'y^',label='Source estimated by all receivers')\n",
    "#plt.plot(d*np.sin(np.pi-phi_estimated),d*np.cos(np.pi-phi_estimated),'g^',label='Source position estimated')\n",
    "#plt.plot(d*np.sin(np.pi/2-phi_estimated),d*np.cos(np.pi/2-phi_estimated),'g^',label='Source position estimated')\n",
    "plt.plot()\n",
    "plt.legend()\n",
    "#plt.xlim(-500,500)\n",
    "#plt.ylim(-500,500)\n",
    "plt.xlabel('X(m)')\n",
    "plt.ylabel('Y(m)')\n",
    "plt.axis('equal')\n",
    "\n",
    "plt.title('source position estimates via subsets')\n",
    "plt.show()\n",
    "\n",
    "     "
   ]
  },
  {
   "cell_type": "code",
   "execution_count": null,
   "metadata": {},
   "outputs": [],
   "source": []
  },
  {
   "cell_type": "code",
   "execution_count": null,
   "metadata": {},
   "outputs": [],
   "source": []
  },
  {
   "cell_type": "code",
   "execution_count": null,
   "metadata": {},
   "outputs": [],
   "source": []
  },
  {
   "cell_type": "code",
   "execution_count": null,
   "metadata": {},
   "outputs": [],
   "source": []
  },
  {
   "cell_type": "code",
   "execution_count": null,
   "metadata": {},
   "outputs": [],
   "source": []
  },
  {
   "cell_type": "code",
   "execution_count": null,
   "metadata": {},
   "outputs": [],
   "source": []
  },
  {
   "cell_type": "code",
   "execution_count": null,
   "metadata": {},
   "outputs": [],
   "source": []
  }
 ],
 "metadata": {
  "kernelspec": {
   "display_name": "Python 3 (ipykernel)",
   "language": "python",
   "name": "python3"
  },
  "language_info": {
   "codemirror_mode": {
    "name": "ipython",
    "version": 3
   },
   "file_extension": ".py",
   "mimetype": "text/x-python",
   "name": "python",
   "nbconvert_exporter": "python",
   "pygments_lexer": "ipython3",
   "version": "3.9.5"
  }
 },
 "nbformat": 4,
 "nbformat_minor": 2
}
